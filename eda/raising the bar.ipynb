{
 "cells": [
  {
   "cell_type": "code",
   "execution_count": 1,
   "metadata": {},
   "outputs": [],
   "source": [
    "%matplotlib inline\n",
    "\n",
    "import os\n",
    "import pandas as pd\n",
    "import numpy as np\n",
    "import matplotlib.pyplot as plt\n",
    "from sklearn.linear_model import LinearRegression\n",
    "from sklearn.model_selection import train_test_split\n",
    "from sklearn.preprocessing import MinMaxScaler\n",
    "import tensorflow as tf\n",
    "from sklearn.metrics import mean_squared_error"
   ]
  },
  {
   "cell_type": "code",
   "execution_count": 2,
   "metadata": {},
   "outputs": [],
   "source": [
    "train_path = os.path.join('..','data','new_train.csv')\n",
    "test_path = os.path.join('..','data','new_test.csv')\n",
    "# monthly_card_path = os.path.join('..','data','monthly_card_features.csv')"
   ]
  },
  {
   "cell_type": "code",
   "execution_count": 3,
   "metadata": {},
   "outputs": [],
   "source": [
    "train_df = pd.read_csv(train_path, index_col=0)\n",
    "test_df = pd.read_csv(test_path,index_col=0)\n",
    "# monthly_card_df = pd.read_csv(monthly_card_path)"
   ]
  },
  {
   "cell_type": "code",
   "execution_count": 4,
   "metadata": {},
   "outputs": [
    {
     "data": {
      "text/html": [
       "<div>\n",
       "<style scoped>\n",
       "    .dataframe tbody tr th:only-of-type {\n",
       "        vertical-align: middle;\n",
       "    }\n",
       "\n",
       "    .dataframe tbody tr th {\n",
       "        vertical-align: top;\n",
       "    }\n",
       "\n",
       "    .dataframe thead th {\n",
       "        text-align: right;\n",
       "    }\n",
       "</style>\n",
       "<table border=\"1\" class=\"dataframe\">\n",
       "  <thead>\n",
       "    <tr style=\"text-align: right;\">\n",
       "      <th></th>\n",
       "      <th>first_active_month</th>\n",
       "      <th>card_id</th>\n",
       "      <th>feature_1</th>\n",
       "      <th>feature_2</th>\n",
       "      <th>feature_3</th>\n",
       "      <th>tof</th>\n",
       "      <th>recency</th>\n",
       "      <th>frequency</th>\n",
       "      <th>log_freq</th>\n",
       "      <th>amt</th>\n",
       "      <th>...</th>\n",
       "      <th>max_amt</th>\n",
       "      <th>n_declines</th>\n",
       "      <th>log_n_declines</th>\n",
       "      <th>prop_new</th>\n",
       "      <th>merch_cat_1_Y</th>\n",
       "      <th>merch_cat_2_1</th>\n",
       "      <th>merch_cat_2_2</th>\n",
       "      <th>merch_cat_2_3</th>\n",
       "      <th>merch_cat_2_4</th>\n",
       "      <th>merch_cat_2_5</th>\n",
       "    </tr>\n",
       "  </thead>\n",
       "  <tbody>\n",
       "    <tr>\n",
       "      <th>0</th>\n",
       "      <td>2017-04</td>\n",
       "      <td>C_ID_0ab67a22ab</td>\n",
       "      <td>3</td>\n",
       "      <td>3</td>\n",
       "      <td>1</td>\n",
       "      <td>391</td>\n",
       "      <td>61</td>\n",
       "      <td>71</td>\n",
       "      <td>4.262680</td>\n",
       "      <td>-42.510888</td>\n",
       "      <td>...</td>\n",
       "      <td>0.235676</td>\n",
       "      <td>24.0</td>\n",
       "      <td>3.178054</td>\n",
       "      <td>0.042254</td>\n",
       "      <td>23</td>\n",
       "      <td>48</td>\n",
       "      <td>0</td>\n",
       "      <td>0</td>\n",
       "      <td>0</td>\n",
       "      <td>0</td>\n",
       "    </tr>\n",
       "    <tr>\n",
       "      <th>1</th>\n",
       "      <td>2017-01</td>\n",
       "      <td>C_ID_130fd0cbdd</td>\n",
       "      <td>2</td>\n",
       "      <td>3</td>\n",
       "      <td>0</td>\n",
       "      <td>472</td>\n",
       "      <td>10</td>\n",
       "      <td>87</td>\n",
       "      <td>4.465908</td>\n",
       "      <td>-55.081212</td>\n",
       "      <td>...</td>\n",
       "      <td>0.318818</td>\n",
       "      <td>1.0</td>\n",
       "      <td>0.000000</td>\n",
       "      <td>0.103448</td>\n",
       "      <td>4</td>\n",
       "      <td>0</td>\n",
       "      <td>0</td>\n",
       "      <td>1</td>\n",
       "      <td>82</td>\n",
       "      <td>0</td>\n",
       "    </tr>\n",
       "    <tr>\n",
       "      <th>2</th>\n",
       "      <td>2017-08</td>\n",
       "      <td>C_ID_b709037bc5</td>\n",
       "      <td>5</td>\n",
       "      <td>1</td>\n",
       "      <td>1</td>\n",
       "      <td>248</td>\n",
       "      <td>48</td>\n",
       "      <td>15</td>\n",
       "      <td>2.708050</td>\n",
       "      <td>4.708978</td>\n",
       "      <td>...</td>\n",
       "      <td>2.525866</td>\n",
       "      <td>4.0</td>\n",
       "      <td>1.386294</td>\n",
       "      <td>0.133333</td>\n",
       "      <td>2</td>\n",
       "      <td>1</td>\n",
       "      <td>0</td>\n",
       "      <td>0</td>\n",
       "      <td>0</td>\n",
       "      <td>12</td>\n",
       "    </tr>\n",
       "    <tr>\n",
       "      <th>3</th>\n",
       "      <td>2017-12</td>\n",
       "      <td>C_ID_d27d835a9f</td>\n",
       "      <td>2</td>\n",
       "      <td>1</td>\n",
       "      <td>0</td>\n",
       "      <td>147</td>\n",
       "      <td>13</td>\n",
       "      <td>36</td>\n",
       "      <td>3.583519</td>\n",
       "      <td>-19.434389</td>\n",
       "      <td>...</td>\n",
       "      <td>0.087965</td>\n",
       "      <td>0.0</td>\n",
       "      <td>0.000000</td>\n",
       "      <td>0.277778</td>\n",
       "      <td>1</td>\n",
       "      <td>34</td>\n",
       "      <td>0</td>\n",
       "      <td>0</td>\n",
       "      <td>0</td>\n",
       "      <td>1</td>\n",
       "    </tr>\n",
       "    <tr>\n",
       "      <th>4</th>\n",
       "      <td>2015-12</td>\n",
       "      <td>C_ID_2b5e3df5c2</td>\n",
       "      <td>5</td>\n",
       "      <td>1</td>\n",
       "      <td>1</td>\n",
       "      <td>482</td>\n",
       "      <td>18</td>\n",
       "      <td>116</td>\n",
       "      <td>4.753590</td>\n",
       "      <td>37.204381</td>\n",
       "      <td>...</td>\n",
       "      <td>15.782255</td>\n",
       "      <td>23.0</td>\n",
       "      <td>3.135494</td>\n",
       "      <td>0.051724</td>\n",
       "      <td>0</td>\n",
       "      <td>4</td>\n",
       "      <td>0</td>\n",
       "      <td>6</td>\n",
       "      <td>106</td>\n",
       "      <td>0</td>\n",
       "    </tr>\n",
       "  </tbody>\n",
       "</table>\n",
       "<p>5 rows × 23 columns</p>\n",
       "</div>"
      ],
      "text/plain": [
       "  first_active_month          card_id  feature_1  feature_2  feature_3  tof  \\\n",
       "0            2017-04  C_ID_0ab67a22ab          3          3          1  391   \n",
       "1            2017-01  C_ID_130fd0cbdd          2          3          0  472   \n",
       "2            2017-08  C_ID_b709037bc5          5          1          1  248   \n",
       "3            2017-12  C_ID_d27d835a9f          2          1          0  147   \n",
       "4            2015-12  C_ID_2b5e3df5c2          5          1          1  482   \n",
       "\n",
       "   recency  frequency  log_freq        amt      ...          max_amt  \\\n",
       "0       61         71  4.262680 -42.510888      ...         0.235676   \n",
       "1       10         87  4.465908 -55.081212      ...         0.318818   \n",
       "2       48         15  2.708050   4.708978      ...         2.525866   \n",
       "3       13         36  3.583519 -19.434389      ...         0.087965   \n",
       "4       18        116  4.753590  37.204381      ...        15.782255   \n",
       "\n",
       "   n_declines  log_n_declines  prop_new  merch_cat_1_Y  merch_cat_2_1  \\\n",
       "0        24.0        3.178054  0.042254             23             48   \n",
       "1         1.0        0.000000  0.103448              4              0   \n",
       "2         4.0        1.386294  0.133333              2              1   \n",
       "3         0.0        0.000000  0.277778              1             34   \n",
       "4        23.0        3.135494  0.051724              0              4   \n",
       "\n",
       "   merch_cat_2_2  merch_cat_2_3  merch_cat_2_4  merch_cat_2_5  \n",
       "0              0              0              0              0  \n",
       "1              0              1             82              0  \n",
       "2              0              0              0             12  \n",
       "3              0              0              0              1  \n",
       "4              0              6            106              0  \n",
       "\n",
       "[5 rows x 23 columns]"
      ]
     },
     "execution_count": 4,
     "metadata": {},
     "output_type": "execute_result"
    }
   ],
   "source": [
    "test_df.head()"
   ]
  },
  {
   "cell_type": "code",
   "execution_count": 5,
   "metadata": {},
   "outputs": [
    {
     "data": {
      "text/plain": [
       "['first_active_month',\n",
       " 'card_id',\n",
       " 'feature_1',\n",
       " 'feature_2',\n",
       " 'feature_3',\n",
       " 'target',\n",
       " 'tof',\n",
       " 'recency',\n",
       " 'frequency',\n",
       " 'log_freq',\n",
       " 'amt',\n",
       " 'avg_amt',\n",
       " 'charge_per_day',\n",
       " 'log_charge_per_day',\n",
       " 'max_amt',\n",
       " 'n_declines',\n",
       " 'log_n_declines',\n",
       " 'prop_new',\n",
       " 'merch_cat_1_Y',\n",
       " 'merch_cat_2_1',\n",
       " 'merch_cat_2_2',\n",
       " 'merch_cat_2_3',\n",
       " 'merch_cat_2_4',\n",
       " 'merch_cat_2_5']"
      ]
     },
     "execution_count": 5,
     "metadata": {},
     "output_type": "execute_result"
    }
   ],
   "source": [
    "list(train_df)"
   ]
  },
  {
   "cell_type": "code",
   "execution_count": 6,
   "metadata": {},
   "outputs": [],
   "source": [
    "model_cols = ['feature_1',\n",
    " 'feature_2',\n",
    " 'feature_3',\n",
    " 'tof',\n",
    " 'recency',\n",
    " 'log_freq',\n",
    " 'amt',\n",
    " 'avg_amt',\n",
    " 'charge_per_day',\n",
    " 'log_charge_per_day',\n",
    " 'max_amt',\n",
    " 'n_declines',\n",
    " 'log_n_declines',\n",
    " 'prop_new',\n",
    " 'merch_cat_1_Y',\n",
    " 'merch_cat_2_1',\n",
    " 'merch_cat_2_2',\n",
    " 'merch_cat_2_3',\n",
    " 'merch_cat_2_4',\n",
    " 'merch_cat_2_5']"
   ]
  },
  {
   "cell_type": "code",
   "execution_count": 7,
   "metadata": {},
   "outputs": [],
   "source": [
    "numeric_cols = ['feature_1',\n",
    " 'feature_2',\n",
    " 'tof',\n",
    " 'recency',\n",
    " 'log_freq',\n",
    " 'amt',\n",
    " 'avg_amt',\n",
    " 'charge_per_day',\n",
    " 'log_charge_per_day',\n",
    " 'max_amt',\n",
    " 'n_declines',\n",
    " 'log_n_declines',\n",
    " 'prop_new']\n",
    "\n",
    "cat_cols = ['feature_3',\n",
    "'merch_cat_1_Y',\n",
    " 'merch_cat_2_1',\n",
    " 'merch_cat_2_2',\n",
    " 'merch_cat_2_3',\n",
    " 'merch_cat_2_4',\n",
    " 'merch_cat_2_5']"
   ]
  },
  {
   "cell_type": "markdown",
   "metadata": {},
   "source": [
    "## Oversampling\n"
   ]
  },
  {
   "cell_type": "code",
   "execution_count": 8,
   "metadata": {},
   "outputs": [],
   "source": [
    "train_df_out = train_df[(train_df['target'] > 4)]\n",
    "train_df_out = pd.concat([train_df_out, train_df_out, train_df_out])\n",
    "train_df_out = pd.concat([train_df_out,train_df_out])"
   ]
  },
  {
   "cell_type": "code",
   "execution_count": 9,
   "metadata": {},
   "outputs": [
    {
     "data": {
      "text/plain": [
       "(201917, 24)"
      ]
     },
     "execution_count": 9,
     "metadata": {},
     "output_type": "execute_result"
    }
   ],
   "source": [
    "train_df.shape"
   ]
  },
  {
   "cell_type": "code",
   "execution_count": 10,
   "metadata": {},
   "outputs": [],
   "source": [
    "# X_train, X_test, y_train, y_test = train_test_split(train_df[model_cols],train_df['target'],test_size=0.2)\n",
    "\n",
    "X_train = train_df[model_cols]\n",
    "y_train = train_df['target']\n",
    "x_test = test_df[model_cols]"
   ]
  },
  {
   "cell_type": "markdown",
   "metadata": {},
   "source": [
    "## Scaling\n",
    "\n",
    "subract by min and divide by max"
   ]
  },
  {
   "cell_type": "code",
   "execution_count": 11,
   "metadata": {},
   "outputs": [
    {
     "name": "stderr",
     "output_type": "stream",
     "text": [
      "/Users/henrypark/anaconda/envs/tfdeeplearning/lib/python3.5/site-packages/sklearn/preprocessing/data.py:323: DataConversionWarning: Data with input dtype int64, float64 were all converted to float64 by MinMaxScaler.\n",
      "  return self.partial_fit(X, y)\n"
     ]
    }
   ],
   "source": [
    "scaler = MinMaxScaler()\n",
    "scaler.fit(X_train)\n",
    "X_train = pd.DataFrame(data=scaler.transform(X_train),columns = X_train.columns,index=X_train.index)"
   ]
  },
  {
   "cell_type": "code",
   "execution_count": 12,
   "metadata": {},
   "outputs": [
    {
     "name": "stderr",
     "output_type": "stream",
     "text": [
      "/Users/henrypark/anaconda/envs/tfdeeplearning/lib/python3.5/site-packages/sklearn/preprocessing/data.py:323: DataConversionWarning: Data with input dtype int64, float64 were all converted to float64 by MinMaxScaler.\n",
      "  return self.partial_fit(X, y)\n"
     ]
    }
   ],
   "source": [
    "scaler = MinMaxScaler()\n",
    "scaler.fit(x_test)\n",
    "x_test = pd.DataFrame(data=scaler.transform(x_test),columns = x_test.columns,index=x_test.index)"
   ]
  },
  {
   "cell_type": "markdown",
   "metadata": {},
   "source": [
    "## Boosted Tree Regressor Using Tensorflow"
   ]
  },
  {
   "cell_type": "code",
   "execution_count": 879,
   "metadata": {},
   "outputs": [],
   "source": [
    "tf_columns = []\n",
    "for col in model_cols:\n",
    "    #tf_columns.append(tf.feature_column.numeric_column(col))\n",
    "    temp = tf.feature_column.numeric_column(col)\n",
    "    quart = sorted(list(set(X_train[col].quantile([0.15,0.5,0.85]))))\n",
    "    tf_columns.append(tf.feature_column.bucketized_column(source_column=temp, boundaries=quart))\n",
    "\n",
    "# tf_columns = []\n",
    "# for col in numeric_cols:\n",
    "#     tf_columns.append(tf.feature_column.numeric_column(col))\n",
    "# for col in cat_cols:\n",
    "#     tf_columns.append(tf.feature_column.indicator_column(col))"
   ]
  },
  {
   "cell_type": "code",
   "execution_count": 880,
   "metadata": {},
   "outputs": [],
   "source": [
    "input_func = tf.estimator.inputs.pandas_input_fn(x=X_train,y=y_train,batch_size=10,num_epochs=1000,\n",
    "                                            shuffle=True)"
   ]
  },
  {
   "cell_type": "code",
   "execution_count": 881,
   "metadata": {},
   "outputs": [
    {
     "data": {
      "text/plain": [
       "1009.0"
      ]
     },
     "execution_count": 881,
     "metadata": {},
     "output_type": "execute_result"
    }
   ],
   "source": [
    "n_batches_per_layer = 0.5 * X_train.shape[0] // 100\n",
    "n_batches_per_layer"
   ]
  },
  {
   "cell_type": "code",
   "execution_count": 882,
   "metadata": {},
   "outputs": [
    {
     "name": "stdout",
     "output_type": "stream",
     "text": [
      "INFO:tensorflow:Using default config.\n",
      "WARNING:tensorflow:Using temporary folder as model directory: /var/folders/_y/f4nlgpcs6x79pmncgymhg4hh0000gn/T/tmpnjimulla\n",
      "INFO:tensorflow:Using config: {'_cluster_spec': <tensorflow.python.training.server_lib.ClusterSpec object at 0x1a313a90f0>, '_keep_checkpoint_max': 5, '_num_worker_replicas': 1, '_train_distribute': None, '_task_type': 'worker', '_eval_distribute': None, '_log_step_count_steps': 100, '_keep_checkpoint_every_n_hours': 10000, '_save_summary_steps': 100, '_is_chief': True, '_save_checkpoints_secs': 600, '_save_checkpoints_steps': None, '_num_ps_replicas': 0, '_protocol': None, '_experimental_distribute': None, '_device_fn': None, '_task_id': 0, '_tf_random_seed': None, '_model_dir': '/var/folders/_y/f4nlgpcs6x79pmncgymhg4hh0000gn/T/tmpnjimulla', '_service': None, '_global_id_in_cluster': 0, '_evaluation_master': '', '_master': '', '_session_config': allow_soft_placement: true\n",
      "graph_options {\n",
      "  rewrite_options {\n",
      "    meta_optimizer_iterations: ONE\n",
      "  }\n",
      "}\n",
      "}\n"
     ]
    }
   ],
   "source": [
    "# model = tf.estimator.DNNClassifier(hidden_units=[10,10,10],feature_columns=tf_columns)\n",
    "model = tf.estimator.BoostedTreesRegressor(\n",
    "    feature_columns=tf_columns,\n",
    "    n_batches_per_layer=100,\n",
    "    n_trees=100,\n",
    "    l1_regularization=0.01,\n",
    "    max_depth=5)\n",
    "\n",
    "# model = estimator = tf.estimator.DNNRegressor(hidden_units=[1024, 512, 256],\n",
    "#                                               feature_columns=tf_columns,\n",
    "#                                              optimizer = tf.train.ProximalAdagradOptimizer(\n",
    "#       learning_rate=0.1,\n",
    "#       l1_regularization_strength=0.001\n",
    "#     ))\n"
   ]
  },
  {
   "cell_type": "code",
   "execution_count": 883,
   "metadata": {},
   "outputs": [
    {
     "name": "stdout",
     "output_type": "stream",
     "text": [
      "INFO:tensorflow:Calling model_fn.\n",
      "INFO:tensorflow:Done calling model_fn.\n",
      "INFO:tensorflow:Create CheckpointSaverHook.\n",
      "WARNING:tensorflow:Issue encountered when serializing resources.\n",
      "Type is unsupported, or the types of the items don't match field type in CollectionDef. Note this is a warning and probably safe to ignore.\n",
      "'_Resource' object has no attribute 'name'\n",
      "INFO:tensorflow:Graph was finalized.\n",
      "INFO:tensorflow:Running local_init_op.\n",
      "INFO:tensorflow:Done running local_init_op.\n",
      "WARNING:tensorflow:Issue encountered when serializing resources.\n",
      "Type is unsupported, or the types of the items don't match field type in CollectionDef. Note this is a warning and probably safe to ignore.\n",
      "'_Resource' object has no attribute 'name'\n",
      "INFO:tensorflow:Saving checkpoints for 0 into /var/folders/_y/f4nlgpcs6x79pmncgymhg4hh0000gn/T/tmpnjimulla/model.ckpt.\n",
      "WARNING:tensorflow:Issue encountered when serializing resources.\n",
      "Type is unsupported, or the types of the items don't match field type in CollectionDef. Note this is a warning and probably safe to ignore.\n",
      "'_Resource' object has no attribute 'name'\n",
      "INFO:tensorflow:loss = 1.4292439, step = 1\n",
      "INFO:tensorflow:global_step/sec: 204.057\n",
      "INFO:tensorflow:loss = 4.1937075, step = 101 (0.491 sec)\n",
      "INFO:tensorflow:global_step/sec: 257.112\n",
      "INFO:tensorflow:loss = 0.6364474, step = 201 (0.389 sec)\n",
      "INFO:tensorflow:global_step/sec: 188.356\n",
      "INFO:tensorflow:loss = 2.0403106, step = 301 (0.531 sec)\n",
      "INFO:tensorflow:global_step/sec: 220.702\n",
      "INFO:tensorflow:loss = 3.7278934, step = 401 (0.460 sec)\n",
      "INFO:tensorflow:global_step/sec: 217.832\n",
      "INFO:tensorflow:loss = 0.7358829, step = 501 (0.453 sec)\n",
      "INFO:tensorflow:global_step/sec: 269.838\n",
      "INFO:tensorflow:loss = 6.872079, step = 601 (0.371 sec)\n",
      "INFO:tensorflow:global_step/sec: 255.253\n",
      "INFO:tensorflow:loss = 1.582875, step = 701 (0.394 sec)\n",
      "INFO:tensorflow:global_step/sec: 266.942\n",
      "INFO:tensorflow:loss = 0.4830039, step = 801 (0.374 sec)\n",
      "INFO:tensorflow:global_step/sec: 257.674\n",
      "INFO:tensorflow:loss = 1.8908975, step = 901 (0.384 sec)\n",
      "INFO:tensorflow:global_step/sec: 242.709\n",
      "INFO:tensorflow:loss = 2.4765, step = 1001 (0.420 sec)\n",
      "INFO:tensorflow:global_step/sec: 248.342\n",
      "INFO:tensorflow:loss = 8.07834, step = 1101 (0.397 sec)\n",
      "INFO:tensorflow:global_step/sec: 274.171\n",
      "INFO:tensorflow:loss = 116.14586, step = 1201 (0.363 sec)\n",
      "INFO:tensorflow:global_step/sec: 277.429\n",
      "INFO:tensorflow:loss = 2.6367152, step = 1301 (0.362 sec)\n",
      "INFO:tensorflow:global_step/sec: 265.515\n",
      "INFO:tensorflow:loss = 2.2715125, step = 1401 (0.374 sec)\n",
      "INFO:tensorflow:global_step/sec: 263.105\n",
      "INFO:tensorflow:loss = 204.30934, step = 1501 (0.382 sec)\n",
      "INFO:tensorflow:global_step/sec: 246.559\n",
      "INFO:tensorflow:loss = 3.0079715, step = 1601 (0.405 sec)\n",
      "INFO:tensorflow:global_step/sec: 248.021\n",
      "INFO:tensorflow:loss = 0.8083457, step = 1701 (0.405 sec)\n",
      "INFO:tensorflow:global_step/sec: 275.951\n",
      "INFO:tensorflow:loss = 0.85107994, step = 1801 (0.360 sec)\n",
      "INFO:tensorflow:global_step/sec: 262.077\n",
      "INFO:tensorflow:loss = 5.985449, step = 1901 (0.387 sec)\n",
      "INFO:tensorflow:global_step/sec: 248.848\n",
      "INFO:tensorflow:loss = 1.1208428, step = 2001 (0.399 sec)\n",
      "INFO:tensorflow:global_step/sec: 189.379\n",
      "INFO:tensorflow:loss = 107.321365, step = 2101 (0.530 sec)\n",
      "INFO:tensorflow:global_step/sec: 223.965\n",
      "INFO:tensorflow:loss = 1.8322179, step = 2201 (0.446 sec)\n",
      "INFO:tensorflow:global_step/sec: 293.705\n",
      "INFO:tensorflow:loss = 3.9658883, step = 2301 (0.337 sec)\n",
      "INFO:tensorflow:global_step/sec: 301.591\n",
      "INFO:tensorflow:loss = 2.213998, step = 2401 (0.335 sec)\n",
      "INFO:tensorflow:global_step/sec: 298.484\n",
      "INFO:tensorflow:loss = 2.4293237, step = 2501 (0.332 sec)\n",
      "INFO:tensorflow:global_step/sec: 286.048\n",
      "INFO:tensorflow:loss = 3.8166797, step = 2601 (0.348 sec)\n",
      "INFO:tensorflow:global_step/sec: 299.491\n",
      "INFO:tensorflow:loss = 3.0359867, step = 2701 (0.334 sec)\n",
      "INFO:tensorflow:global_step/sec: 297.071\n",
      "INFO:tensorflow:loss = 117.768936, step = 2801 (0.338 sec)\n",
      "INFO:tensorflow:global_step/sec: 280.434\n",
      "INFO:tensorflow:loss = 2.4257095, step = 2901 (0.358 sec)\n",
      "INFO:tensorflow:global_step/sec: 293.527\n",
      "INFO:tensorflow:loss = 2.053609, step = 3001 (0.341 sec)\n",
      "INFO:tensorflow:global_step/sec: 300.675\n",
      "INFO:tensorflow:loss = 3.6967704, step = 3101 (0.330 sec)\n",
      "INFO:tensorflow:global_step/sec: 294.105\n",
      "INFO:tensorflow:loss = 2.367285, step = 3201 (0.343 sec)\n",
      "INFO:tensorflow:global_step/sec: 296.045\n",
      "INFO:tensorflow:loss = 4.7759085, step = 3301 (0.337 sec)\n",
      "INFO:tensorflow:global_step/sec: 306.443\n",
      "INFO:tensorflow:loss = 0.8471581, step = 3401 (0.326 sec)\n",
      "INFO:tensorflow:global_step/sec: 291.078\n",
      "INFO:tensorflow:loss = 1.7717326, step = 3501 (0.342 sec)\n",
      "INFO:tensorflow:global_step/sec: 298.875\n",
      "INFO:tensorflow:loss = 2.448251, step = 3601 (0.335 sec)\n",
      "INFO:tensorflow:global_step/sec: 278.981\n",
      "INFO:tensorflow:loss = 5.177739, step = 3701 (0.360 sec)\n",
      "INFO:tensorflow:global_step/sec: 302.373\n",
      "INFO:tensorflow:loss = 2.3866777, step = 3801 (0.328 sec)\n",
      "INFO:tensorflow:global_step/sec: 287.762\n",
      "INFO:tensorflow:loss = 108.85681, step = 3901 (0.352 sec)\n",
      "INFO:tensorflow:global_step/sec: 309.209\n",
      "INFO:tensorflow:loss = 2.3056746, step = 4001 (0.322 sec)\n",
      "INFO:tensorflow:global_step/sec: 300.989\n",
      "INFO:tensorflow:loss = 1.3250525, step = 4101 (0.332 sec)\n",
      "INFO:tensorflow:global_step/sec: 285.343\n",
      "INFO:tensorflow:loss = 1.5398973, step = 4201 (0.350 sec)\n",
      "INFO:tensorflow:global_step/sec: 280.287\n",
      "INFO:tensorflow:loss = 1.3201544, step = 4301 (0.357 sec)\n",
      "INFO:tensorflow:global_step/sec: 282.157\n",
      "INFO:tensorflow:loss = 14.480977, step = 4401 (0.353 sec)\n",
      "INFO:tensorflow:global_step/sec: 297.062\n",
      "INFO:tensorflow:loss = 3.2370377, step = 4501 (0.341 sec)\n",
      "INFO:tensorflow:global_step/sec: 298.246\n",
      "INFO:tensorflow:loss = 1.5451131, step = 4601 (0.334 sec)\n",
      "INFO:tensorflow:global_step/sec: 298.957\n",
      "INFO:tensorflow:loss = 1.0946151, step = 4701 (0.335 sec)\n",
      "INFO:tensorflow:global_step/sec: 297.602\n",
      "INFO:tensorflow:loss = 187.62381, step = 4801 (0.335 sec)\n",
      "INFO:tensorflow:global_step/sec: 302.491\n",
      "INFO:tensorflow:loss = 1.3359636, step = 4901 (0.328 sec)\n",
      "INFO:tensorflow:global_step/sec: 266.581\n",
      "INFO:tensorflow:loss = 4.186464, step = 5001 (0.379 sec)\n",
      "INFO:tensorflow:global_step/sec: 279.128\n",
      "INFO:tensorflow:loss = 1.540307, step = 5101 (0.356 sec)\n",
      "INFO:tensorflow:global_step/sec: 297.038\n",
      "INFO:tensorflow:loss = 115.82937, step = 5201 (0.335 sec)\n",
      "INFO:tensorflow:global_step/sec: 300.947\n",
      "INFO:tensorflow:loss = 2.0625, step = 5301 (0.334 sec)\n",
      "INFO:tensorflow:global_step/sec: 295.638\n",
      "INFO:tensorflow:loss = 109.70388, step = 5401 (0.336 sec)\n",
      "INFO:tensorflow:global_step/sec: 291.185\n",
      "INFO:tensorflow:loss = 3.0102437, step = 5501 (0.347 sec)\n",
      "INFO:tensorflow:global_step/sec: 300.015\n",
      "INFO:tensorflow:loss = 3.849961, step = 5601 (0.332 sec)\n",
      "INFO:tensorflow:global_step/sec: 282.215\n",
      "INFO:tensorflow:loss = 1.2998029, step = 5701 (0.354 sec)\n",
      "INFO:tensorflow:global_step/sec: 295.921\n",
      "INFO:tensorflow:loss = 2.986063, step = 5801 (0.338 sec)\n",
      "INFO:tensorflow:global_step/sec: 207.033\n",
      "INFO:tensorflow:loss = 2.646743, step = 5901 (0.485 sec)\n",
      "INFO:tensorflow:global_step/sec: 263.623\n",
      "INFO:tensorflow:loss = 1.2478822, step = 6001 (0.378 sec)\n",
      "INFO:tensorflow:global_step/sec: 208.305\n",
      "INFO:tensorflow:loss = 111.22749, step = 6101 (0.483 sec)\n",
      "INFO:tensorflow:global_step/sec: 205.639\n",
      "INFO:tensorflow:loss = 1.0433655, step = 6201 (0.481 sec)\n",
      "INFO:tensorflow:global_step/sec: 201.68\n",
      "INFO:tensorflow:loss = 32.420765, step = 6301 (0.498 sec)\n",
      "INFO:tensorflow:global_step/sec: 261.599\n",
      "INFO:tensorflow:loss = 7.3806915, step = 6401 (0.383 sec)\n",
      "INFO:tensorflow:global_step/sec: 175.418\n",
      "INFO:tensorflow:loss = 7.9407363, step = 6501 (0.567 sec)\n",
      "INFO:tensorflow:global_step/sec: 258.209\n",
      "INFO:tensorflow:loss = 3.5161266, step = 6601 (0.388 sec)\n",
      "INFO:tensorflow:global_step/sec: 195.542\n",
      "INFO:tensorflow:loss = 111.57295, step = 6701 (0.514 sec)\n",
      "INFO:tensorflow:global_step/sec: 209.476\n",
      "INFO:tensorflow:loss = 1.0179722, step = 6801 (0.474 sec)\n",
      "INFO:tensorflow:global_step/sec: 247.63\n",
      "INFO:tensorflow:loss = 3.9168415, step = 6901 (0.405 sec)\n",
      "INFO:tensorflow:global_step/sec: 254.326\n",
      "INFO:tensorflow:loss = 1.1428959, step = 7001 (0.395 sec)\n",
      "INFO:tensorflow:global_step/sec: 271.701\n",
      "INFO:tensorflow:loss = 110.78574, step = 7101 (0.368 sec)\n",
      "INFO:tensorflow:global_step/sec: 274.131\n",
      "INFO:tensorflow:loss = 4.21486, step = 7201 (0.366 sec)\n"
     ]
    },
    {
     "name": "stdout",
     "output_type": "stream",
     "text": [
      "INFO:tensorflow:global_step/sec: 276.692\n",
      "INFO:tensorflow:loss = 7.786319, step = 7301 (0.359 sec)\n",
      "INFO:tensorflow:global_step/sec: 273.166\n",
      "INFO:tensorflow:loss = 4.220661, step = 7401 (0.368 sec)\n",
      "INFO:tensorflow:global_step/sec: 283.686\n",
      "INFO:tensorflow:loss = 4.6054626, step = 7501 (0.350 sec)\n",
      "INFO:tensorflow:global_step/sec: 265.111\n",
      "INFO:tensorflow:loss = 1.6732649, step = 7601 (0.380 sec)\n",
      "INFO:tensorflow:global_step/sec: 281.257\n",
      "INFO:tensorflow:loss = 2.590366, step = 7701 (0.353 sec)\n",
      "INFO:tensorflow:global_step/sec: 285.56\n",
      "INFO:tensorflow:loss = 1.1324402, step = 7801 (0.351 sec)\n",
      "INFO:tensorflow:global_step/sec: 288.567\n",
      "INFO:tensorflow:loss = 9.568944, step = 7901 (0.346 sec)\n",
      "INFO:tensorflow:global_step/sec: 280.783\n",
      "INFO:tensorflow:loss = 0.7030982, step = 8001 (0.357 sec)\n",
      "INFO:tensorflow:global_step/sec: 281.488\n",
      "INFO:tensorflow:loss = 1.671632, step = 8101 (0.357 sec)\n",
      "INFO:tensorflow:global_step/sec: 266.77\n",
      "INFO:tensorflow:loss = 1.2514412, step = 8201 (0.373 sec)\n",
      "INFO:tensorflow:global_step/sec: 273.139\n",
      "INFO:tensorflow:loss = 5.896107, step = 8301 (0.364 sec)\n",
      "INFO:tensorflow:global_step/sec: 283.475\n",
      "INFO:tensorflow:loss = 3.0667894, step = 8401 (0.354 sec)\n",
      "INFO:tensorflow:global_step/sec: 272.915\n",
      "INFO:tensorflow:loss = 109.12819, step = 8501 (0.367 sec)\n",
      "INFO:tensorflow:global_step/sec: 281.156\n",
      "INFO:tensorflow:loss = 3.1851563, step = 8601 (0.354 sec)\n",
      "INFO:tensorflow:global_step/sec: 281.779\n",
      "INFO:tensorflow:loss = 5.261964, step = 8701 (0.358 sec)\n",
      "INFO:tensorflow:global_step/sec: 290.907\n",
      "INFO:tensorflow:loss = 0.78044176, step = 8801 (0.343 sec)\n",
      "INFO:tensorflow:global_step/sec: 271.062\n",
      "INFO:tensorflow:loss = 2.4143646, step = 8901 (0.368 sec)\n",
      "INFO:tensorflow:global_step/sec: 262.967\n",
      "INFO:tensorflow:loss = 106.21543, step = 9001 (0.378 sec)\n",
      "INFO:tensorflow:global_step/sec: 278.751\n",
      "INFO:tensorflow:loss = 1.6939256, step = 9101 (0.361 sec)\n",
      "INFO:tensorflow:global_step/sec: 287.493\n",
      "INFO:tensorflow:loss = 118.46452, step = 9201 (0.346 sec)\n",
      "INFO:tensorflow:global_step/sec: 279.947\n",
      "INFO:tensorflow:loss = 3.073193, step = 9301 (0.361 sec)\n",
      "INFO:tensorflow:global_step/sec: 282.89\n",
      "INFO:tensorflow:loss = 3.2916706, step = 9401 (0.352 sec)\n",
      "INFO:tensorflow:global_step/sec: 282.22\n",
      "INFO:tensorflow:loss = 3.2419667, step = 9501 (0.352 sec)\n",
      "INFO:tensorflow:global_step/sec: 287.57\n",
      "INFO:tensorflow:loss = 4.0441456, step = 9601 (0.351 sec)\n",
      "INFO:tensorflow:global_step/sec: 279.451\n",
      "INFO:tensorflow:loss = 4.680641, step = 9701 (0.357 sec)\n",
      "INFO:tensorflow:global_step/sec: 280.599\n",
      "INFO:tensorflow:loss = 0.8422558, step = 9801 (0.355 sec)\n",
      "INFO:tensorflow:global_step/sec: 283.716\n",
      "INFO:tensorflow:loss = 0.82603896, step = 9901 (0.354 sec)\n",
      "INFO:tensorflow:global_step/sec: 280.118\n",
      "INFO:tensorflow:loss = 5.3074985, step = 10001 (0.355 sec)\n",
      "INFO:tensorflow:global_step/sec: 275.578\n",
      "INFO:tensorflow:loss = 1.897925, step = 10101 (0.366 sec)\n",
      "INFO:tensorflow:global_step/sec: 270.394\n",
      "INFO:tensorflow:loss = 6.1203465, step = 10201 (0.366 sec)\n",
      "INFO:tensorflow:global_step/sec: 278.917\n",
      "INFO:tensorflow:loss = 2.2376041, step = 10301 (0.360 sec)\n",
      "INFO:tensorflow:global_step/sec: 285.02\n",
      "INFO:tensorflow:loss = 5.660948, step = 10401 (0.357 sec)\n",
      "INFO:tensorflow:global_step/sec: 282.073\n",
      "INFO:tensorflow:loss = 4.996263, step = 10501 (0.349 sec)\n",
      "INFO:tensorflow:global_step/sec: 280.83\n",
      "INFO:tensorflow:loss = 112.61623, step = 10601 (0.356 sec)\n",
      "INFO:tensorflow:global_step/sec: 284.012\n",
      "INFO:tensorflow:loss = 1.369951, step = 10701 (0.354 sec)\n",
      "INFO:tensorflow:global_step/sec: 231.361\n",
      "INFO:tensorflow:loss = 3.1790195, step = 10801 (0.433 sec)\n",
      "INFO:tensorflow:global_step/sec: 225.138\n",
      "INFO:tensorflow:loss = 4.8167396, step = 10901 (0.439 sec)\n",
      "INFO:tensorflow:global_step/sec: 267.609\n",
      "INFO:tensorflow:loss = 70.107765, step = 11001 (0.373 sec)\n",
      "INFO:tensorflow:global_step/sec: 275.49\n",
      "INFO:tensorflow:loss = 3.284821, step = 11101 (0.364 sec)\n",
      "INFO:tensorflow:global_step/sec: 267.451\n",
      "INFO:tensorflow:loss = 3.4712174, step = 11201 (0.375 sec)\n",
      "INFO:tensorflow:global_step/sec: 269.971\n",
      "INFO:tensorflow:loss = 3.2204864, step = 11301 (0.368 sec)\n",
      "INFO:tensorflow:global_step/sec: 275.347\n",
      "INFO:tensorflow:loss = 3.370407, step = 11401 (0.363 sec)\n",
      "INFO:tensorflow:global_step/sec: 281.678\n",
      "INFO:tensorflow:loss = 3.7195172, step = 11501 (0.357 sec)\n",
      "INFO:tensorflow:global_step/sec: 270.526\n",
      "INFO:tensorflow:loss = 3.7856877, step = 11601 (0.370 sec)\n",
      "INFO:tensorflow:global_step/sec: 292.318\n",
      "INFO:tensorflow:loss = 111.53068, step = 11701 (0.342 sec)\n",
      "INFO:tensorflow:global_step/sec: 269.015\n",
      "INFO:tensorflow:loss = 10.353025, step = 11801 (0.373 sec)\n",
      "INFO:tensorflow:global_step/sec: 284.328\n",
      "INFO:tensorflow:loss = 0.52407753, step = 11901 (0.357 sec)\n",
      "INFO:tensorflow:global_step/sec: 286.905\n",
      "INFO:tensorflow:loss = 6.609651, step = 12001 (0.341 sec)\n",
      "INFO:tensorflow:global_step/sec: 282.618\n",
      "INFO:tensorflow:loss = 1.9076812, step = 12101 (0.353 sec)\n",
      "INFO:tensorflow:global_step/sec: 281.448\n",
      "INFO:tensorflow:loss = 21.397974, step = 12201 (0.355 sec)\n",
      "INFO:tensorflow:global_step/sec: 263.715\n",
      "INFO:tensorflow:loss = 1.425175, step = 12301 (0.383 sec)\n",
      "INFO:tensorflow:global_step/sec: 222.52\n",
      "INFO:tensorflow:loss = 41.70263, step = 12401 (0.448 sec)\n",
      "INFO:tensorflow:global_step/sec: 232.156\n",
      "INFO:tensorflow:loss = 6.0459223, step = 12501 (0.430 sec)\n",
      "INFO:tensorflow:global_step/sec: 233.763\n",
      "INFO:tensorflow:loss = 115.142845, step = 12601 (0.430 sec)\n",
      "INFO:tensorflow:global_step/sec: 243.204\n",
      "INFO:tensorflow:loss = 3.1537807, step = 12701 (0.414 sec)\n",
      "INFO:tensorflow:global_step/sec: 279.439\n",
      "INFO:tensorflow:loss = 16.36996, step = 12801 (0.352 sec)\n",
      "INFO:tensorflow:global_step/sec: 283.411\n",
      "INFO:tensorflow:loss = 2.332248, step = 12901 (0.355 sec)\n",
      "INFO:tensorflow:global_step/sec: 282.46\n",
      "INFO:tensorflow:loss = 8.180357, step = 13001 (0.353 sec)\n",
      "INFO:tensorflow:global_step/sec: 281.017\n",
      "INFO:tensorflow:loss = 4.3800726, step = 13101 (0.358 sec)\n",
      "INFO:tensorflow:global_step/sec: 247.893\n",
      "INFO:tensorflow:loss = 1.1695006, step = 13201 (0.403 sec)\n",
      "INFO:tensorflow:global_step/sec: 272.349\n",
      "INFO:tensorflow:loss = 1.763533, step = 13301 (0.370 sec)\n",
      "INFO:tensorflow:global_step/sec: 270.922\n",
      "INFO:tensorflow:loss = 1.2176833, step = 13401 (0.368 sec)\n",
      "INFO:tensorflow:global_step/sec: 287.228\n",
      "INFO:tensorflow:loss = 3.0299945, step = 13501 (0.348 sec)\n",
      "INFO:tensorflow:global_step/sec: 283.362\n",
      "INFO:tensorflow:loss = 4.1008897, step = 13601 (0.350 sec)\n",
      "INFO:tensorflow:global_step/sec: 284.127\n",
      "INFO:tensorflow:loss = 2.2700016, step = 13701 (0.355 sec)\n",
      "INFO:tensorflow:global_step/sec: 276.191\n",
      "INFO:tensorflow:loss = 3.8688996, step = 13801 (0.359 sec)\n",
      "INFO:tensorflow:global_step/sec: 265.947\n",
      "INFO:tensorflow:loss = 1.6428598, step = 13901 (0.379 sec)\n",
      "INFO:tensorflow:global_step/sec: 275.07\n",
      "INFO:tensorflow:loss = 2.5824552, step = 14001 (0.362 sec)\n",
      "INFO:tensorflow:global_step/sec: 264.956\n",
      "INFO:tensorflow:loss = 8.473176, step = 14101 (0.379 sec)\n",
      "INFO:tensorflow:global_step/sec: 275.803\n",
      "INFO:tensorflow:loss = 1.8896973, step = 14201 (0.364 sec)\n",
      "INFO:tensorflow:global_step/sec: 272.244\n",
      "INFO:tensorflow:loss = 98.86817, step = 14301 (0.365 sec)\n",
      "INFO:tensorflow:global_step/sec: 264.322\n",
      "INFO:tensorflow:loss = 4.263333, step = 14401 (0.380 sec)\n",
      "INFO:tensorflow:global_step/sec: 276.291\n",
      "INFO:tensorflow:loss = 2.1351314, step = 14501 (0.360 sec)\n",
      "INFO:tensorflow:global_step/sec: 278.098\n",
      "INFO:tensorflow:loss = 2.7530403, step = 14601 (0.361 sec)\n",
      "INFO:tensorflow:global_step/sec: 280.668\n",
      "INFO:tensorflow:loss = 1.0594041, step = 14701 (0.355 sec)\n",
      "INFO:tensorflow:global_step/sec: 273.536\n",
      "INFO:tensorflow:loss = 2.7298565, step = 14801 (0.364 sec)\n",
      "INFO:tensorflow:global_step/sec: 279.687\n",
      "INFO:tensorflow:loss = 1.5769913, step = 14901 (0.361 sec)\n",
      "INFO:tensorflow:Saving checkpoints for 15000 into /var/folders/_y/f4nlgpcs6x79pmncgymhg4hh0000gn/T/tmpnjimulla/model.ckpt.\n",
      "WARNING:tensorflow:Issue encountered when serializing resources.\n",
      "Type is unsupported, or the types of the items don't match field type in CollectionDef. Note this is a warning and probably safe to ignore.\n",
      "'_Resource' object has no attribute 'name'\n",
      "INFO:tensorflow:Loss for final step: 3.5861156.\n"
     ]
    },
    {
     "data": {
      "text/plain": [
       "<tensorflow.python.estimator.canned.boosted_trees.BoostedTreesRegressor at 0x1a313a9160>"
      ]
     },
     "execution_count": 883,
     "metadata": {},
     "output_type": "execute_result"
    }
   ],
   "source": [
    "model.train(input_fn=input_func,steps=15000)"
   ]
  },
  {
   "cell_type": "markdown",
   "metadata": {},
   "source": [
    "## Neural Network Using Tensorflow"
   ]
  },
  {
   "cell_type": "code",
   "execution_count": null,
   "metadata": {},
   "outputs": [],
   "source": [
    "tf_columns = []\n",
    "for col in model_cols:\n",
    "    tf_columns.append(tf.feature_column.numeric_column(col))"
   ]
  },
  {
   "cell_type": "code",
   "execution_count": null,
   "metadata": {},
   "outputs": [],
   "source": [
    "input_func = tf.estimator.inputs.pandas_input_fn(x=X_train,y=y_train ,batch_size=10,num_epochs=1000,\n",
    "                                            shuffle=True)"
   ]
  },
  {
   "cell_type": "code",
   "execution_count": null,
   "metadata": {},
   "outputs": [],
   "source": [
    "model = tf.estimator.DNNRegressor(hidden_units=[64,32,16],feature_columns=tf_columns)"
   ]
  },
  {
   "cell_type": "code",
   "execution_count": null,
   "metadata": {},
   "outputs": [],
   "source": [
    "model.train(input_fn=input_func,steps=10000)"
   ]
  },
  {
   "cell_type": "markdown",
   "metadata": {},
   "source": [
    "## Predictions with Tensorflow Models"
   ]
  },
  {
   "cell_type": "code",
   "execution_count": 884,
   "metadata": {},
   "outputs": [],
   "source": [
    "predict_input_func = tf.estimator.inputs.pandas_input_fn(\n",
    "      x=x_test,\n",
    "      batch_size=10,\n",
    "      num_epochs=1,\n",
    "      shuffle=False)"
   ]
  },
  {
   "cell_type": "code",
   "execution_count": 885,
   "metadata": {},
   "outputs": [],
   "source": [
    "pred_gen = model.predict(predict_input_func)"
   ]
  },
  {
   "cell_type": "code",
   "execution_count": 886,
   "metadata": {},
   "outputs": [
    {
     "name": "stdout",
     "output_type": "stream",
     "text": [
      "INFO:tensorflow:Calling model_fn.\n",
      "INFO:tensorflow:Done calling model_fn.\n",
      "INFO:tensorflow:Graph was finalized.\n",
      "INFO:tensorflow:Restoring parameters from /var/folders/_y/f4nlgpcs6x79pmncgymhg4hh0000gn/T/tmpnjimulla/model.ckpt-15000\n",
      "INFO:tensorflow:Running local_init_op.\n",
      "INFO:tensorflow:Done running local_init_op.\n"
     ]
    }
   ],
   "source": [
    "predictions = list(pred_gen)"
   ]
  },
  {
   "cell_type": "code",
   "execution_count": 887,
   "metadata": {},
   "outputs": [],
   "source": [
    "final_preds = []\n",
    "for pred in predictions:\n",
    "    final_preds.append(pred['predictions'][0])"
   ]
  },
  {
   "cell_type": "code",
   "execution_count": 891,
   "metadata": {},
   "outputs": [
    {
     "data": {
      "text/plain": [
       "array([[<matplotlib.axes._subplots.AxesSubplot object at 0x1a25ec4e48>]],\n",
       "      dtype=object)"
      ]
     },
     "execution_count": 891,
     "metadata": {},
     "output_type": "execute_result"
    },
    {
     "data": {
      "image/png": "[encoded data removed]",
      "text/plain": [
       "<Figure size 432x288 with 1 Axes>"
      ]
     },
     "metadata": {
      "needs_background": "light"
     },
     "output_type": "display_data"
    }
   ],
   "source": [
    "pd.DataFrame(final_preds).hist(bins=30)"
   ]
  },
  {
   "cell_type": "code",
   "execution_count": 839,
   "metadata": {},
   "outputs": [
    {
     "data": {
      "text/plain": [
       "<matplotlib.axes._subplots.AxesSubplot at 0x1a30b1e8d0>"
      ]
     },
     "execution_count": 839,
     "metadata": {},
     "output_type": "execute_result"
    },
    {
     "data": {
      "image/png": "[encoded data removed]",
      "text/plain": [
       "<Figure size 432x288 with 1 Axes>"
      ]
     },
     "metadata": {
      "needs_background": "light"
     },
     "output_type": "display_data"
    }
   ],
   "source": [
    "y_train.hist(bins=25)"
   ]
  },
  {
   "cell_type": "code",
   "execution_count": 889,
   "metadata": {},
   "outputs": [
    {
     "data": {
      "text/plain": [
       "-24.51375"
      ]
     },
     "execution_count": 889,
     "metadata": {},
     "output_type": "execute_result"
    }
   ],
   "source": [
    "min(final_preds)"
   ]
  },
  {
   "cell_type": "code",
   "execution_count": 890,
   "metadata": {},
   "outputs": [
    {
     "data": {
      "text/plain": [
       "3.147375"
      ]
     },
     "execution_count": 890,
     "metadata": {},
     "output_type": "execute_result"
    }
   ],
   "source": [
    "max(final_preds)"
   ]
  },
  {
   "cell_type": "code",
   "execution_count": 362,
   "metadata": {},
   "outputs": [
    {
     "data": {
      "text/plain": [
       "0"
      ]
     },
     "execution_count": 362,
     "metadata": {},
     "output_type": "execute_result"
    }
   ],
   "source": [
    "sum([i < -7 for i in final_preds])"
   ]
  },
  {
   "cell_type": "code",
   "execution_count": 325,
   "metadata": {},
   "outputs": [
    {
     "data": {
      "text/plain": [
       "1742"
      ]
     },
     "execution_count": 325,
     "metadata": {},
     "output_type": "execute_result"
    }
   ],
   "source": [
    "sum(y_train > 5)"
   ]
  },
  {
   "cell_type": "code",
   "execution_count": 892,
   "metadata": {},
   "outputs": [],
   "source": [
    "submission = pd.DataFrame(final_preds)\n",
    "submission.columns=['target']\n",
    "submission = pd.concat([test_df['card_id'], submission], axis=1)\n",
    "submission.to_csv('submission.csv', index=False)"
   ]
  },
  {
   "cell_type": "markdown",
   "metadata": {},
   "source": [
    "## Logistic Regression"
   ]
  },
  {
   "cell_type": "code",
   "execution_count": 13,
   "metadata": {},
   "outputs": [],
   "source": [
    "from sklearn.linear_model import LogisticRegression"
   ]
  },
  {
   "cell_type": "code",
   "execution_count": 25,
   "metadata": {},
   "outputs": [],
   "source": [
    "train_df['target_bin'] = train_df['target'] < -7"
   ]
  },
  {
   "cell_type": "markdown",
   "metadata": {},
   "source": [
    "##### Oversampling"
   ]
  },
  {
   "cell_type": "code",
   "execution_count": 26,
   "metadata": {},
   "outputs": [],
   "source": [
    "train_df_out = train_df[(train_df['target'] < -7)]\n",
    "train_df_out = pd.concat([train_df_out, train_df_out, train_df_out, train_df_out, train_df_out])\n",
    "train_df_out = pd.concat([train_df_out,train_df_out])\n",
    "train_df_out = pd.concat([train_df_out,train_df_out])\n",
    "train_df_out = pd.concat([train_df_out,train_df_out])"
   ]
  },
  {
   "cell_type": "code",
   "execution_count": 27,
   "metadata": {},
   "outputs": [],
   "source": [
    "train_df_out = pd.concat([train_df_out, train_df])"
   ]
  },
  {
   "cell_type": "code",
   "execution_count": 28,
   "metadata": {},
   "outputs": [],
   "source": [
    "X_train_1 = train_df_out[model_cols]"
   ]
  },
  {
   "cell_type": "markdown",
   "metadata": {},
   "source": [
    "##### Scaling for convergence"
   ]
  },
  {
   "cell_type": "code",
   "execution_count": 29,
   "metadata": {},
   "outputs": [
    {
     "name": "stderr",
     "output_type": "stream",
     "text": [
      "/Users/henrypark/anaconda/envs/tfdeeplearning/lib/python3.5/site-packages/sklearn/preprocessing/data.py:323: DataConversionWarning: Data with input dtype int64, float64 were all converted to float64 by MinMaxScaler.\n",
      "  return self.partial_fit(X, y)\n"
     ]
    }
   ],
   "source": [
    "scaler = MinMaxScaler()\n",
    "scaler.fit(X_train_1)\n",
    "X_train_1 = pd.DataFrame(data=scaler.transform(X_train_1),columns = X_train_1.columns,index=X_train_1.index)"
   ]
  },
  {
   "cell_type": "code",
   "execution_count": 43,
   "metadata": {},
   "outputs": [],
   "source": [
    "X_train_orig = pd.DataFrame(data=scaler.transform(train_df[model_cols]),columns = train_df[model_cols].columns,index=train_df[model_cols].index)"
   ]
  },
  {
   "cell_type": "code",
   "execution_count": 31,
   "metadata": {},
   "outputs": [],
   "source": [
    "Os = sum(train_df_out['target_bin'])/train_df_out['target_bin'].shape[0]\n",
    "O = sum(train_df['target_bin'])/train_df['target_bin'].shape[0]"
   ]
  },
  {
   "cell_type": "code",
   "execution_count": 32,
   "metadata": {},
   "outputs": [],
   "source": [
    "clf = LogisticRegression(random_state=0, solver='liblinear',multi_class='ovr').fit(X_train_1, train_df_out['target_bin'])"
   ]
  },
  {
   "cell_type": "code",
   "execution_count": 44,
   "metadata": {},
   "outputs": [],
   "source": [
    "prob_s = clf.predict_proba(X_train_orig)\n",
    "prob_s = prob_s[:,0]"
   ]
  },
  {
   "cell_type": "code",
   "execution_count": 45,
   "metadata": {},
   "outputs": [],
   "source": [
    "new_prob = prob_s * O/(Os - prob_s*(Os-O))"
   ]
  },
  {
   "cell_type": "code",
   "execution_count": 73,
   "metadata": {},
   "outputs": [],
   "source": [
    "prediction_log = new_prob > 0.8"
   ]
  },
  {
   "cell_type": "code",
   "execution_count": 74,
   "metadata": {},
   "outputs": [
    {
     "data": {
      "text/plain": [
       "array([False, False, False, False, False])"
      ]
     },
     "execution_count": 74,
     "metadata": {},
     "output_type": "execute_result"
    }
   ],
   "source": [
    "prediction_log[0:5]"
   ]
  },
  {
   "cell_type": "code",
   "execution_count": 75,
   "metadata": {},
   "outputs": [
    {
     "name": "stderr",
     "output_type": "stream",
     "text": [
      "/Users/henrypark/anaconda/envs/tfdeeplearning/lib/python3.5/site-packages/ipykernel_launcher.py:1: FutureWarning: Method .as_matrix will be removed in a future version. Use .values instead.\n",
      "  \"\"\"Entry point for launching an IPython kernel.\n"
     ]
    },
    {
     "data": {
      "text/plain": [
       "array([False, False, False, False, False])"
      ]
     },
     "execution_count": 75,
     "metadata": {},
     "output_type": "execute_result"
    }
   ],
   "source": [
    "train_df['target_bin'].as_matrix()[0:5]"
   ]
  },
  {
   "cell_type": "code",
   "execution_count": 76,
   "metadata": {},
   "outputs": [
    {
     "name": "stderr",
     "output_type": "stream",
     "text": [
      "/Users/henrypark/anaconda/envs/tfdeeplearning/lib/python3.5/site-packages/ipykernel_launcher.py:1: FutureWarning: Method .as_matrix will be removed in a future version. Use .values instead.\n",
      "  \"\"\"Entry point for launching an IPython kernel.\n"
     ]
    },
    {
     "data": {
      "text/plain": [
       "array([ True,  True,  True,  True,  True])"
      ]
     },
     "execution_count": 76,
     "metadata": {},
     "output_type": "execute_result"
    }
   ],
   "source": [
    "train_df['target_bin'].as_matrix()[0:5] == prediction_log[0:5]"
   ]
  },
  {
   "cell_type": "code",
   "execution_count": 77,
   "metadata": {},
   "outputs": [
    {
     "name": "stderr",
     "output_type": "stream",
     "text": [
      "/Users/henrypark/anaconda/envs/tfdeeplearning/lib/python3.5/site-packages/ipykernel_launcher.py:1: FutureWarning: Method .as_matrix will be removed in a future version. Use .values instead.\n",
      "  \"\"\"Entry point for launching an IPython kernel.\n"
     ]
    },
    {
     "data": {
      "text/plain": [
       "0.9869847511601302"
      ]
     },
     "execution_count": 77,
     "metadata": {},
     "output_type": "execute_result"
    }
   ],
   "source": [
    "sum(prediction_log == train_df['target_bin'].as_matrix())/train_df['target_bin'].shape[0]"
   ]
  },
  {
   "cell_type": "code",
   "execution_count": 78,
   "metadata": {},
   "outputs": [
    {
     "data": {
      "text/plain": [
       "0.9871828523601281"
      ]
     },
     "execution_count": 78,
     "metadata": {},
     "output_type": "execute_result"
    }
   ],
   "source": [
    "1-sum(train_df['target_bin'])/train_df['target_bin'].shape[0]"
   ]
  }
 ],
 "metadata": {
  "kernelspec": {
   "display_name": "Python 3",
   "language": "python",
   "name": "python3"
  },
  "language_info": {
   "codemirror_mode": {
    "name": "ipython",
    "version": 3
   },
   "file_extension": ".py",
   "mimetype": "text/x-python",
   "name": "python",
   "nbconvert_exporter": "python",
   "pygments_lexer": "ipython3",
   "version": "3.5.6"
  }
 },
 "nbformat": 4,
 "nbformat_minor": 2
}
