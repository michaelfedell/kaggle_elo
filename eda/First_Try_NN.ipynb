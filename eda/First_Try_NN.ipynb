{
 "cells": [
  {
   "cell_type": "code",
   "execution_count": 1,
   "metadata": {},
   "outputs": [],
   "source": [
    "%matplotlib inline\n",
    "\n",
    "import os\n",
    "import pandas as pd\n",
    "import numpy as np\n",
    "import matplotlib.pyplot as plt\n",
    "from sklearn.linear_model import LinearRegression\n",
    "from sklearn.model_selection import train_test_split\n",
    "from sklearn.preprocessing import MinMaxScaler\n",
    "import tensorflow as tf"
   ]
  },
  {
   "cell_type": "code",
   "execution_count": 7,
   "metadata": {},
   "outputs": [],
   "source": [
    "train_path = os.path.join('..','data','train.csv')\n",
    "test_path = os.path.join('..','data','test.csv')\n",
    "# monthly_card_path = os.path.join('..','data','monthly_card_features.csv')"
   ]
  },
  {
   "cell_type": "code",
   "execution_count": 10,
   "metadata": {},
   "outputs": [],
   "source": [
    "train_df = pd.read_csv(train_path, parse_dates=[\"first_active_month\"])\n",
    "test_df = pd.read_csv(test_path, parse_dates=[\"first_active_month\"])\n",
    "# monthly_card_df = pd.read_csv(monthly_card_path)"
   ]
  },
  {
   "cell_type": "code",
   "execution_count": 12,
   "metadata": {},
   "outputs": [
    {
     "data": {
      "text/html": [
       "<div>\n",
       "<style scoped>\n",
       "    .dataframe tbody tr th:only-of-type {\n",
       "        vertical-align: middle;\n",
       "    }\n",
       "\n",
       "    .dataframe tbody tr th {\n",
       "        vertical-align: top;\n",
       "    }\n",
       "\n",
       "    .dataframe thead th {\n",
       "        text-align: right;\n",
       "    }\n",
       "</style>\n",
       "<table border=\"1\" class=\"dataframe\">\n",
       "  <thead>\n",
       "    <tr style=\"text-align: right;\">\n",
       "      <th></th>\n",
       "      <th>card_id</th>\n",
       "      <th>month_lag</th>\n",
       "      <th>amt_total</th>\n",
       "      <th>amt_new</th>\n",
       "      <th>NDR</th>\n",
       "      <th>n_new_merchants</th>\n",
       "      <th>n_total_merchants</th>\n",
       "    </tr>\n",
       "  </thead>\n",
       "  <tbody>\n",
       "    <tr>\n",
       "      <th>0</th>\n",
       "      <td>C_ID_00007093c1</td>\n",
       "      <td>-12</td>\n",
       "      <td>1100.20</td>\n",
       "      <td>1100.2</td>\n",
       "      <td>1.000000</td>\n",
       "      <td>3.0</td>\n",
       "      <td>3.0</td>\n",
       "    </tr>\n",
       "    <tr>\n",
       "      <th>1</th>\n",
       "      <td>C_ID_00007093c1</td>\n",
       "      <td>-11</td>\n",
       "      <td>1168.90</td>\n",
       "      <td>0.0</td>\n",
       "      <td>0.000000</td>\n",
       "      <td>NaN</td>\n",
       "      <td>3.0</td>\n",
       "    </tr>\n",
       "    <tr>\n",
       "      <th>2</th>\n",
       "      <td>C_ID_00007093c1</td>\n",
       "      <td>-10</td>\n",
       "      <td>1633.25</td>\n",
       "      <td>742.8</td>\n",
       "      <td>0.454799</td>\n",
       "      <td>3.0</td>\n",
       "      <td>6.0</td>\n",
       "    </tr>\n",
       "    <tr>\n",
       "      <th>3</th>\n",
       "      <td>C_ID_00007093c1</td>\n",
       "      <td>-9</td>\n",
       "      <td>2691.13</td>\n",
       "      <td>2420.0</td>\n",
       "      <td>0.899251</td>\n",
       "      <td>3.0</td>\n",
       "      <td>9.0</td>\n",
       "    </tr>\n",
       "    <tr>\n",
       "      <th>4</th>\n",
       "      <td>C_ID_00007093c1</td>\n",
       "      <td>-8</td>\n",
       "      <td>2876.63</td>\n",
       "      <td>1925.0</td>\n",
       "      <td>0.669186</td>\n",
       "      <td>5.0</td>\n",
       "      <td>14.0</td>\n",
       "    </tr>\n",
       "  </tbody>\n",
       "</table>\n",
       "</div>"
      ],
      "text/plain": [
       "           card_id  month_lag  amt_total  amt_new       NDR  n_new_merchants  \\\n",
       "0  C_ID_00007093c1        -12    1100.20   1100.2  1.000000              3.0   \n",
       "1  C_ID_00007093c1        -11    1168.90      0.0  0.000000              NaN   \n",
       "2  C_ID_00007093c1        -10    1633.25    742.8  0.454799              3.0   \n",
       "3  C_ID_00007093c1         -9    2691.13   2420.0  0.899251              3.0   \n",
       "4  C_ID_00007093c1         -8    2876.63   1925.0  0.669186              5.0   \n",
       "\n",
       "   n_total_merchants  \n",
       "0                3.0  \n",
       "1                3.0  \n",
       "2                6.0  \n",
       "3                9.0  \n",
       "4               14.0  "
      ]
     },
     "execution_count": 12,
     "metadata": {},
     "output_type": "execute_result"
    }
   ],
   "source": [
    "monthly_card_df.head()"
   ]
  },
  {
   "cell_type": "code",
   "execution_count": 13,
   "metadata": {},
   "outputs": [
    {
     "name": "stderr",
     "output_type": "stream",
     "text": [
      "/Users/henrypark/anaconda/envs/tfdeeplearning/lib/python3.5/site-packages/pandas/core/reshape/merge.py:544: UserWarning: merging between different levels can give an unintended result (1 levels on the left, 2 on the right)\n",
      "  warnings.warn(msg, UserWarning)\n"
     ]
    }
   ],
   "source": [
    "train_df = train_df.join(monthly_card_df.groupby('card_id').agg({\n",
    "    'amt_total': [np.min, np.mean, np.max],\n",
    "    'NDR':       [np.min, np.mean, np.max],\n",
    "    'n_new_merchants':   np.mean,\n",
    "    'n_total_merchants': np.max\n",
    "}))\n",
    "test_df = test_df.join(monthly_card_df.groupby('card_id').agg({\n",
    "    'amt_total': [np.min, np.mean, np.max],\n",
    "    'NDR':       [np.min, np.mean, np.max],\n",
    "    'n_new_merchants':   np.mean,\n",
    "    'n_total_merchants': np.max\n",
    "}))"
   ]
  },
  {
   "cell_type": "code",
   "execution_count": null,
   "metadata": {},
   "outputs": [],
   "source": []
  },
  {
   "cell_type": "code",
   "execution_count": null,
   "metadata": {},
   "outputs": [],
   "source": []
  },
  {
   "cell_type": "code",
   "execution_count": 5,
   "metadata": {},
   "outputs": [
    {
     "data": {
      "text/plain": [
       "<matplotlib.collections.PathCollection at 0x1a30543a20>"
      ]
     },
     "execution_count": 5,
     "metadata": {},
     "output_type": "execute_result"
    },
    {
     "data": {
      "image/png": "[encoded data removed]",
      "text/plain": [
       "<Figure size 432x288 with 1 Axes>"
      ]
     },
     "metadata": {
      "needs_background": "light"
     },
     "output_type": "display_data"
    }
   ],
   "source": [
    "plt.scatter(range(train_df.shape[0]), np.sort(train_df['target'].values))"
   ]
  },
  {
   "cell_type": "code",
   "execution_count": 10,
   "metadata": {},
   "outputs": [],
   "source": [
    "hist_trans_path= os.path.join('..','data','historical_transactions.csv')\n",
    "hist_trans_df = pd.read_csv(hist_trans_path)"
   ]
  },
  {
   "cell_type": "code",
   "execution_count": 11,
   "metadata": {},
   "outputs": [
    {
     "data": {
      "text/html": [
       "<div>\n",
       "<style scoped>\n",
       "    .dataframe tbody tr th:only-of-type {\n",
       "        vertical-align: middle;\n",
       "    }\n",
       "\n",
       "    .dataframe tbody tr th {\n",
       "        vertical-align: top;\n",
       "    }\n",
       "\n",
       "    .dataframe thead th {\n",
       "        text-align: right;\n",
       "    }\n",
       "</style>\n",
       "<table border=\"1\" class=\"dataframe\">\n",
       "  <thead>\n",
       "    <tr style=\"text-align: right;\">\n",
       "      <th></th>\n",
       "      <th>authorized_flag</th>\n",
       "      <th>card_id</th>\n",
       "      <th>city_id</th>\n",
       "      <th>category_1</th>\n",
       "      <th>installments</th>\n",
       "      <th>category_3</th>\n",
       "      <th>merchant_category_id</th>\n",
       "      <th>merchant_id</th>\n",
       "      <th>month_lag</th>\n",
       "      <th>purchase_amount</th>\n",
       "      <th>purchase_date</th>\n",
       "      <th>category_2</th>\n",
       "      <th>state_id</th>\n",
       "      <th>subsector_id</th>\n",
       "    </tr>\n",
       "  </thead>\n",
       "  <tbody>\n",
       "    <tr>\n",
       "      <th>0</th>\n",
       "      <td>Y</td>\n",
       "      <td>C_ID_4e6213e9bc</td>\n",
       "      <td>88</td>\n",
       "      <td>N</td>\n",
       "      <td>0</td>\n",
       "      <td>A</td>\n",
       "      <td>80</td>\n",
       "      <td>M_ID_e020e9b302</td>\n",
       "      <td>-8</td>\n",
       "      <td>-0.703331</td>\n",
       "      <td>2017-06-25 15:33:07</td>\n",
       "      <td>1.0</td>\n",
       "      <td>16</td>\n",
       "      <td>37</td>\n",
       "    </tr>\n",
       "    <tr>\n",
       "      <th>1</th>\n",
       "      <td>Y</td>\n",
       "      <td>C_ID_4e6213e9bc</td>\n",
       "      <td>88</td>\n",
       "      <td>N</td>\n",
       "      <td>0</td>\n",
       "      <td>A</td>\n",
       "      <td>367</td>\n",
       "      <td>M_ID_86ec983688</td>\n",
       "      <td>-7</td>\n",
       "      <td>-0.733128</td>\n",
       "      <td>2017-07-15 12:10:45</td>\n",
       "      <td>1.0</td>\n",
       "      <td>16</td>\n",
       "      <td>16</td>\n",
       "    </tr>\n",
       "    <tr>\n",
       "      <th>2</th>\n",
       "      <td>Y</td>\n",
       "      <td>C_ID_4e6213e9bc</td>\n",
       "      <td>88</td>\n",
       "      <td>N</td>\n",
       "      <td>0</td>\n",
       "      <td>A</td>\n",
       "      <td>80</td>\n",
       "      <td>M_ID_979ed661fc</td>\n",
       "      <td>-6</td>\n",
       "      <td>-0.720386</td>\n",
       "      <td>2017-08-09 22:04:29</td>\n",
       "      <td>1.0</td>\n",
       "      <td>16</td>\n",
       "      <td>37</td>\n",
       "    </tr>\n",
       "    <tr>\n",
       "      <th>3</th>\n",
       "      <td>Y</td>\n",
       "      <td>C_ID_4e6213e9bc</td>\n",
       "      <td>88</td>\n",
       "      <td>N</td>\n",
       "      <td>0</td>\n",
       "      <td>A</td>\n",
       "      <td>560</td>\n",
       "      <td>M_ID_e6d5ae8ea6</td>\n",
       "      <td>-5</td>\n",
       "      <td>-0.735352</td>\n",
       "      <td>2017-09-02 10:06:26</td>\n",
       "      <td>1.0</td>\n",
       "      <td>16</td>\n",
       "      <td>34</td>\n",
       "    </tr>\n",
       "    <tr>\n",
       "      <th>4</th>\n",
       "      <td>Y</td>\n",
       "      <td>C_ID_4e6213e9bc</td>\n",
       "      <td>88</td>\n",
       "      <td>N</td>\n",
       "      <td>0</td>\n",
       "      <td>A</td>\n",
       "      <td>80</td>\n",
       "      <td>M_ID_e020e9b302</td>\n",
       "      <td>-11</td>\n",
       "      <td>-0.722865</td>\n",
       "      <td>2017-03-10 01:14:19</td>\n",
       "      <td>1.0</td>\n",
       "      <td>16</td>\n",
       "      <td>37</td>\n",
       "    </tr>\n",
       "  </tbody>\n",
       "</table>\n",
       "</div>"
      ],
      "text/plain": [
       "  authorized_flag          card_id  city_id category_1  installments  \\\n",
       "0               Y  C_ID_4e6213e9bc       88          N             0   \n",
       "1               Y  C_ID_4e6213e9bc       88          N             0   \n",
       "2               Y  C_ID_4e6213e9bc       88          N             0   \n",
       "3               Y  C_ID_4e6213e9bc       88          N             0   \n",
       "4               Y  C_ID_4e6213e9bc       88          N             0   \n",
       "\n",
       "  category_3  merchant_category_id      merchant_id  month_lag  \\\n",
       "0          A                    80  M_ID_e020e9b302         -8   \n",
       "1          A                   367  M_ID_86ec983688         -7   \n",
       "2          A                    80  M_ID_979ed661fc         -6   \n",
       "3          A                   560  M_ID_e6d5ae8ea6         -5   \n",
       "4          A                    80  M_ID_e020e9b302        -11   \n",
       "\n",
       "   purchase_amount        purchase_date  category_2  state_id  subsector_id  \n",
       "0        -0.703331  2017-06-25 15:33:07         1.0        16            37  \n",
       "1        -0.733128  2017-07-15 12:10:45         1.0        16            16  \n",
       "2        -0.720386  2017-08-09 22:04:29         1.0        16            37  \n",
       "3        -0.735352  2017-09-02 10:06:26         1.0        16            34  \n",
       "4        -0.722865  2017-03-10 01:14:19         1.0        16            37  "
      ]
     },
     "execution_count": 11,
     "metadata": {},
     "output_type": "execute_result"
    }
   ],
   "source": [
    "hist_trans_df.head()"
   ]
  },
  {
   "cell_type": "code",
   "execution_count": 12,
   "metadata": {},
   "outputs": [],
   "source": [
    "hist_temp = hist_trans_df.groupby(\"card_id\")\n",
    "hist_temp = hist_temp[\"purchase_amount\"].size().reset_index()\n",
    "hist_temp.columns = [\"card_id\", \"num_hist_transactions\"]\n",
    "train_df = pd.merge(train_df, hist_temp, on=\"card_id\", how=\"left\")\n",
    "test_df = pd.merge(test_df, hist_temp, on=\"card_id\", how=\"left\")"
   ]
  },
  {
   "cell_type": "code",
   "execution_count": 13,
   "metadata": {},
   "outputs": [],
   "source": [
    "hist_temp = hist_trans_df.groupby(\"card_id\") \n",
    "hist_temp = hist_temp[\"purchase_amount\"].agg(['sum', 'mean', 'std', 'min', 'max']).reset_index()\n",
    "hist_temp.columns = [\"card_id\", \"sum_hist_trans\", \"mean_hist_trans\", \"std_hist_trans\", \"min_hist_trans\", \"max_hist_trans\"]\n",
    "train_df = pd.merge(train_df, hist_temp, on=\"card_id\", how=\"left\")\n",
    "test_df = pd.merge(test_df, hist_temp, on=\"card_id\", how=\"left\")"
   ]
  },
  {
   "cell_type": "code",
   "execution_count": 13,
   "metadata": {
    "collapsed": true
   },
   "outputs": [],
   "source": [
    "# bins = np.percentile(train_df[\"mean_hist_trans\"], range(0,101,10))\n",
    "# train_df['binned_mean_hist_trans'] = pd.cut(train_df['mean_hist_trans'], bins)\n",
    "# #cnt_srs = train_df.groupby(\"binned_mean_hist_trans\")[target_col].mean()\n",
    "\n",
    "# plt.figure(figsize=(12,8))\n",
    "# sns.boxplot(x=\"binned_mean_hist_trans\", y=\"target\", data=train_df, showfliers=False)\n",
    "# plt.xticks(rotation='vertical')\n",
    "# plt.xlabel('Binned Mean Historical Transactions', fontsize=12)\n",
    "# plt.ylabel('Loyalty score', fontsize=12)\n",
    "# plt.title(\"Mean of historical transaction value (Binned) distribution\")\n",
    "# plt.show()"
   ]
  },
  {
   "cell_type": "code",
   "execution_count": 14,
   "metadata": {},
   "outputs": [],
   "source": [
    "new_trans_path = os.path.join('..','data','new_merchant_transactions.csv')\n",
    "new_trans_df = pd.read_csv(new_trans_path)"
   ]
  },
  {
   "cell_type": "code",
   "execution_count": 15,
   "metadata": {},
   "outputs": [],
   "source": [
    "hist_temp = new_trans_df.groupby(\"card_id\")\n",
    "hist_temp = hist_temp[\"purchase_amount\"].size().reset_index()\n",
    "hist_temp.columns = [\"card_id\", \"num_merch_transactions\"]\n",
    "train_df = pd.merge(train_df, hist_temp, on=\"card_id\", how=\"left\")\n",
    "test_df = pd.merge(test_df, hist_temp, on=\"card_id\", how=\"left\")"
   ]
  },
  {
   "cell_type": "code",
   "execution_count": 16,
   "metadata": {},
   "outputs": [],
   "source": [
    "hist_temp = new_trans_df.groupby(\"card_id\")\n",
    "hist_temp = hist_temp[\"purchase_amount\"].agg(['sum', 'mean', 'std', 'min', 'max']).reset_index()\n",
    "hist_temp.columns = [\"card_id\", \"sum_merch_trans\", \"mean_merch_trans\", \"std_merch_trans\", \"min_merch_trans\", \"max_merch_trans\"]\n",
    "train_df = pd.merge(train_df, hist_temp, on=\"card_id\", how=\"left\")\n",
    "test_df = pd.merge(test_df, hist_temp, on=\"card_id\", how=\"left\")"
   ]
  },
  {
   "cell_type": "code",
   "execution_count": 17,
   "metadata": {},
   "outputs": [],
   "source": [
    "train_df[\"year\"] = train_df[\"first_active_month\"].dt.year\n",
    "test_df[\"year\"] = test_df[\"first_active_month\"].dt.year\n",
    "train_df[\"month\"] = train_df[\"first_active_month\"].dt.month\n",
    "test_df[\"month\"] = test_df[\"first_active_month\"].dt.month"
   ]
  },
  {
   "cell_type": "code",
   "execution_count": 18,
   "metadata": {},
   "outputs": [],
   "source": [
    "model_cols = [\"feature_1\", \"feature_2\", \"feature_3\", \"year\", \"month\", \n",
    "               \"num_hist_transactions\", \"sum_hist_trans\", \"mean_hist_trans\", \"std_hist_trans\", \n",
    "               \"min_hist_trans\", \"max_hist_trans\",\n",
    "               \"num_merch_transactions\", \"sum_merch_trans\", \"mean_merch_trans\", \"std_merch_trans\",\n",
    "               \"min_merch_trans\", \"max_merch_trans\",\n",
    "              ]"
   ]
  },
  {
   "cell_type": "code",
   "execution_count": 20,
   "metadata": {},
   "outputs": [],
   "source": [
    "X_train = train_df[model_cols]\n",
    "y_train = train_df['target']\n",
    "x_test = test_df[model_cols]\n",
    "X_train = X_train.fillna(0)\n",
    "x_test = x_test.fillna(0)"
   ]
  },
  {
   "cell_type": "code",
   "execution_count": 21,
   "metadata": {},
   "outputs": [
    {
     "name": "stderr",
     "output_type": "stream",
     "text": [
      "/Users/henrypark/anaconda/envs/tfdeeplearning/lib/python3.5/site-packages/sklearn/preprocessing/data.py:323: DataConversionWarning: Data with input dtype int64, float64 were all converted to float64 by MinMaxScaler.\n",
      "  return self.partial_fit(X, y)\n"
     ]
    },
    {
     "data": {
      "text/plain": [
       "MinMaxScaler(copy=True, feature_range=(0, 1))"
      ]
     },
     "execution_count": 21,
     "metadata": {},
     "output_type": "execute_result"
    }
   ],
   "source": [
    "scaler = MinMaxScaler()\n",
    "scaler.fit(X_train)"
   ]
  },
  {
   "cell_type": "code",
   "execution_count": 22,
   "metadata": {},
   "outputs": [],
   "source": [
    "X_train = pd.DataFrame(data=scaler.transform(X_train),columns = X_train.columns,index=X_train.index)\n",
    "x_test = pd.DataFrame(data=scaler.transform(x_test),columns = x_test.columns,index=x_test.index)\n",
    "X_train = X_train.fillna(0)"
   ]
  },
  {
   "cell_type": "markdown",
   "metadata": {},
   "source": [
    "Initialize the feature variables"
   ]
  },
  {
   "cell_type": "code",
   "execution_count": 145,
   "metadata": {},
   "outputs": [],
   "source": [
    "tf_columns = []\n",
    "for col in model_cols:\n",
    "    tf_columns.append(tf.feature_column.numeric_column(col))"
   ]
  },
  {
   "cell_type": "code",
   "execution_count": 5,
   "metadata": {},
   "outputs": [
    {
     "ename": "NameError",
     "evalue": "name 'tf' is not defined",
     "output_type": "error",
     "traceback": [
      "\u001b[0;31m---------------------------------------------------------------------------\u001b[0m",
      "\u001b[0;31mNameError\u001b[0m                                 Traceback (most recent call last)",
      "\u001b[0;32m<ipython-input-5-3785310a0b03>\u001b[0m in \u001b[0;36m<module>\u001b[0;34m()\u001b[0m\n\u001b[0;32m----> 1\u001b[0;31m input_func = tf.estimator.inputs.pandas_input_fn(x=X_train,y=y_train ,batch_size=100,num_epochs=1000,\n\u001b[0m\u001b[1;32m      2\u001b[0m                                             shuffle=True)\n",
      "\u001b[0;31mNameError\u001b[0m: name 'tf' is not defined"
     ]
    }
   ],
   "source": [
    "input_func = tf.estimator.inputs.pandas_input_fn(x=X_train,y=y_train ,batch_size=100,num_epochs=1000,\n",
    "                                            shuffle=True)"
   ]
  },
  {
   "cell_type": "code",
   "execution_count": null,
   "metadata": {},
   "outputs": [],
   "source": []
  },
  {
   "cell_type": "code",
   "execution_count": 4,
   "metadata": {},
   "outputs": [
    {
     "ename": "NameError",
     "evalue": "name 'tf' is not defined",
     "output_type": "error",
     "traceback": [
      "\u001b[0;31m---------------------------------------------------------------------------\u001b[0m",
      "\u001b[0;31mNameError\u001b[0m                                 Traceback (most recent call last)",
      "\u001b[0;32m<ipython-input-4-a77188aa4c64>\u001b[0m in \u001b[0;36m<module>\u001b[0;34m()\u001b[0m\n\u001b[0;32m----> 1\u001b[0;31m model = tf.estimator.DNNRegressor(hidden_units=[100,10,10],feature_columns=tf_columns,\n\u001b[0m\u001b[1;32m      2\u001b[0m                                   optimizer=lambda: tf.AdamOptimizer(learning_rate=tf.exponential_decay(\n\u001b[1;32m      3\u001b[0m             \u001b[0mlearning_rate\u001b[0m\u001b[0;34m=\u001b[0m\u001b[0;36m0.1\u001b[0m\u001b[0;34m,\u001b[0m\u001b[0;34m\u001b[0m\u001b[0m\n\u001b[1;32m      4\u001b[0m             \u001b[0mglobal_step\u001b[0m\u001b[0;34m=\u001b[0m\u001b[0mtf\u001b[0m\u001b[0;34m.\u001b[0m\u001b[0mget_global_step\u001b[0m\u001b[0;34m(\u001b[0m\u001b[0;34m)\u001b[0m\u001b[0;34m,\u001b[0m\u001b[0;34m\u001b[0m\u001b[0m\n\u001b[1;32m      5\u001b[0m             \u001b[0mdecay_steps\u001b[0m\u001b[0;34m=\u001b[0m\u001b[0;36m10000\u001b[0m\u001b[0;34m,\u001b[0m\u001b[0;34m\u001b[0m\u001b[0m\n",
      "\u001b[0;31mNameError\u001b[0m: name 'tf' is not defined"
     ]
    }
   ],
   "source": [
    "model = tf.estimator.DNNRegressor(hidden_units=[100,10,10],feature_columns=tf_columns,\n",
    "                                  optimizer="
   ]
  },
  {
   "cell_type": "code",
   "execution_count": 148,
   "metadata": {},
   "outputs": [
    {
     "name": "stdout",
     "output_type": "stream",
     "text": [
      "INFO:tensorflow:Calling model_fn.\n",
      "INFO:tensorflow:Done calling model_fn.\n",
      "INFO:tensorflow:Create CheckpointSaverHook.\n",
      "INFO:tensorflow:Graph was finalized.\n",
      "INFO:tensorflow:Running local_init_op.\n",
      "INFO:tensorflow:Done running local_init_op.\n",
      "INFO:tensorflow:Saving checkpoints for 0 into /var/folders/_y/f4nlgpcs6x79pmncgymhg4hh0000gn/T/tmprkno2ew8/model.ckpt.\n",
      "INFO:tensorflow:loss = 1322.1401, step = 1\n",
      "INFO:tensorflow:global_step/sec: 205.799\n",
      "INFO:tensorflow:loss = 232.54059, step = 101 (0.487 sec)\n",
      "INFO:tensorflow:global_step/sec: 220.123\n",
      "INFO:tensorflow:loss = 1616.8184, step = 201 (0.457 sec)\n",
      "INFO:tensorflow:global_step/sec: 224.255\n",
      "INFO:tensorflow:loss = 1484.4122, step = 301 (0.444 sec)\n",
      "INFO:tensorflow:global_step/sec: 205.356\n",
      "INFO:tensorflow:loss = 1346.961, step = 401 (0.487 sec)\n",
      "INFO:tensorflow:global_step/sec: 244.334\n",
      "INFO:tensorflow:loss = 2541.4238, step = 501 (0.409 sec)\n",
      "INFO:tensorflow:global_step/sec: 231.105\n",
      "INFO:tensorflow:loss = 1402.1194, step = 601 (0.434 sec)\n",
      "INFO:tensorflow:global_step/sec: 236.961\n",
      "INFO:tensorflow:loss = 2524.328, step = 701 (0.424 sec)\n",
      "INFO:tensorflow:global_step/sec: 244.37\n",
      "INFO:tensorflow:loss = 349.34595, step = 801 (0.406 sec)\n",
      "INFO:tensorflow:global_step/sec: 232.416\n",
      "INFO:tensorflow:loss = 2464.7656, step = 901 (0.430 sec)\n",
      "INFO:tensorflow:global_step/sec: 242.073\n",
      "INFO:tensorflow:loss = 4526.672, step = 1001 (0.413 sec)\n",
      "INFO:tensorflow:global_step/sec: 242.407\n",
      "INFO:tensorflow:loss = 1278.8903, step = 1101 (0.412 sec)\n",
      "INFO:tensorflow:global_step/sec: 233.125\n",
      "INFO:tensorflow:loss = 2525.0188, step = 1201 (0.431 sec)\n",
      "INFO:tensorflow:global_step/sec: 233.416\n",
      "INFO:tensorflow:loss = 236.22742, step = 1301 (0.427 sec)\n",
      "INFO:tensorflow:global_step/sec: 236.777\n",
      "INFO:tensorflow:loss = 1313.5294, step = 1401 (0.422 sec)\n",
      "INFO:tensorflow:global_step/sec: 246.1\n",
      "INFO:tensorflow:loss = 203.57129, step = 1501 (0.407 sec)\n",
      "INFO:tensorflow:global_step/sec: 243.989\n",
      "INFO:tensorflow:loss = 1351.7349, step = 1601 (0.410 sec)\n",
      "INFO:tensorflow:global_step/sec: 239.092\n",
      "INFO:tensorflow:loss = 1321.4602, step = 1701 (0.422 sec)\n",
      "INFO:tensorflow:global_step/sec: 215.18\n",
      "INFO:tensorflow:loss = 1334.983, step = 1801 (0.461 sec)\n",
      "INFO:tensorflow:global_step/sec: 243.015\n",
      "INFO:tensorflow:loss = 1304.888, step = 1901 (0.411 sec)\n",
      "INFO:tensorflow:global_step/sec: 232.758\n",
      "INFO:tensorflow:loss = 267.28723, step = 2001 (0.430 sec)\n",
      "INFO:tensorflow:global_step/sec: 221.026\n",
      "INFO:tensorflow:loss = 1387.5189, step = 2101 (0.454 sec)\n",
      "INFO:tensorflow:global_step/sec: 224.423\n",
      "INFO:tensorflow:loss = 281.83322, step = 2201 (0.446 sec)\n",
      "INFO:tensorflow:global_step/sec: 214.033\n",
      "INFO:tensorflow:loss = 1370.8989, step = 2301 (0.468 sec)\n",
      "INFO:tensorflow:global_step/sec: 227.507\n",
      "INFO:tensorflow:loss = 1314.4363, step = 2401 (0.437 sec)\n",
      "INFO:tensorflow:global_step/sec: 211.534\n",
      "INFO:tensorflow:loss = 1275.5343, step = 2501 (0.477 sec)\n",
      "INFO:tensorflow:global_step/sec: 215.501\n",
      "INFO:tensorflow:loss = 1360.2609, step = 2601 (0.462 sec)\n",
      "INFO:tensorflow:global_step/sec: 226.564\n",
      "INFO:tensorflow:loss = 1307.8624, step = 2701 (0.439 sec)\n",
      "INFO:tensorflow:global_step/sec: 217.996\n",
      "INFO:tensorflow:loss = 213.27898, step = 2801 (0.458 sec)\n",
      "INFO:tensorflow:global_step/sec: 236.652\n",
      "INFO:tensorflow:loss = 2402.18, step = 2901 (0.423 sec)\n",
      "INFO:tensorflow:global_step/sec: 214.221\n",
      "INFO:tensorflow:loss = 1399.2465, step = 3001 (0.467 sec)\n",
      "INFO:tensorflow:global_step/sec: 236.481\n",
      "INFO:tensorflow:loss = 239.1672, step = 3101 (0.422 sec)\n",
      "INFO:tensorflow:global_step/sec: 247.462\n",
      "INFO:tensorflow:loss = 2464.9197, step = 3201 (0.404 sec)\n",
      "INFO:tensorflow:global_step/sec: 245.051\n",
      "INFO:tensorflow:loss = 2369.782, step = 3301 (0.408 sec)\n",
      "INFO:tensorflow:global_step/sec: 242.098\n",
      "INFO:tensorflow:loss = 2384.0107, step = 3401 (0.413 sec)\n",
      "INFO:tensorflow:global_step/sec: 239.713\n",
      "INFO:tensorflow:loss = 1368.1387, step = 3501 (0.417 sec)\n",
      "INFO:tensorflow:global_step/sec: 237.501\n",
      "INFO:tensorflow:loss = 3478.372, step = 3601 (0.421 sec)\n",
      "INFO:tensorflow:global_step/sec: 245.999\n",
      "INFO:tensorflow:loss = 2530.178, step = 3701 (0.408 sec)\n",
      "INFO:tensorflow:global_step/sec: 242.644\n",
      "INFO:tensorflow:loss = 3645.8665, step = 3801 (0.411 sec)\n",
      "INFO:tensorflow:global_step/sec: 247.619\n",
      "INFO:tensorflow:loss = 1480.8494, step = 3901 (0.403 sec)\n",
      "INFO:tensorflow:global_step/sec: 240.34\n",
      "INFO:tensorflow:loss = 1179.469, step = 4001 (0.416 sec)\n",
      "INFO:tensorflow:global_step/sec: 237.545\n",
      "INFO:tensorflow:loss = 3515.4966, step = 4101 (0.422 sec)\n",
      "INFO:tensorflow:global_step/sec: 238.974\n",
      "INFO:tensorflow:loss = 291.612, step = 4201 (0.418 sec)\n",
      "INFO:tensorflow:global_step/sec: 232.771\n",
      "INFO:tensorflow:loss = 2482.168, step = 4301 (0.430 sec)\n",
      "INFO:tensorflow:global_step/sec: 240.157\n",
      "INFO:tensorflow:loss = 424.20905, step = 4401 (0.418 sec)\n",
      "INFO:tensorflow:global_step/sec: 241.596\n",
      "INFO:tensorflow:loss = 329.4032, step = 4501 (0.415 sec)\n",
      "INFO:tensorflow:global_step/sec: 244.173\n",
      "INFO:tensorflow:loss = 2424.6848, step = 4601 (0.409 sec)\n",
      "INFO:tensorflow:global_step/sec: 241.761\n",
      "INFO:tensorflow:loss = 368.01917, step = 4701 (0.412 sec)\n",
      "INFO:tensorflow:global_step/sec: 247.86\n",
      "INFO:tensorflow:loss = 412.08517, step = 4801 (0.405 sec)\n",
      "INFO:tensorflow:global_step/sec: 243.425\n",
      "INFO:tensorflow:loss = 1259.6696, step = 4901 (0.410 sec)\n",
      "INFO:tensorflow:global_step/sec: 228.676\n",
      "INFO:tensorflow:loss = 1393.0771, step = 5001 (0.437 sec)\n",
      "INFO:tensorflow:global_step/sec: 255.6\n",
      "INFO:tensorflow:loss = 1298.492, step = 5101 (0.391 sec)\n",
      "INFO:tensorflow:global_step/sec: 251.893\n",
      "INFO:tensorflow:loss = 226.33032, step = 5201 (0.399 sec)\n",
      "INFO:tensorflow:global_step/sec: 226.267\n",
      "INFO:tensorflow:loss = 2483.7239, step = 5301 (0.442 sec)\n",
      "INFO:tensorflow:global_step/sec: 244.292\n",
      "INFO:tensorflow:loss = 2400.2886, step = 5401 (0.407 sec)\n",
      "INFO:tensorflow:global_step/sec: 237.655\n",
      "INFO:tensorflow:loss = 1336.2867, step = 5501 (0.421 sec)\n",
      "INFO:tensorflow:global_step/sec: 233.296\n",
      "INFO:tensorflow:loss = 1295.4178, step = 5601 (0.431 sec)\n",
      "INFO:tensorflow:global_step/sec: 252.225\n",
      "INFO:tensorflow:loss = 323.79343, step = 5701 (0.396 sec)\n",
      "INFO:tensorflow:global_step/sec: 253.567\n",
      "INFO:tensorflow:loss = 409.42343, step = 5801 (0.393 sec)\n",
      "INFO:tensorflow:global_step/sec: 246.987\n",
      "INFO:tensorflow:loss = 235.89108, step = 5901 (0.407 sec)\n",
      "INFO:tensorflow:global_step/sec: 239.322\n",
      "INFO:tensorflow:loss = 1314.9939, step = 6001 (0.415 sec)\n",
      "INFO:tensorflow:global_step/sec: 241.201\n",
      "INFO:tensorflow:loss = 3592.157, step = 6101 (0.416 sec)\n",
      "INFO:tensorflow:global_step/sec: 254.889\n",
      "INFO:tensorflow:loss = 237.20387, step = 6201 (0.391 sec)\n",
      "INFO:tensorflow:global_step/sec: 252.426\n",
      "INFO:tensorflow:loss = 302.27914, step = 6301 (0.396 sec)\n",
      "INFO:tensorflow:global_step/sec: 249.961\n",
      "INFO:tensorflow:loss = 255.91487, step = 6401 (0.400 sec)\n",
      "INFO:tensorflow:global_step/sec: 247.343\n",
      "INFO:tensorflow:loss = 3456.26, step = 6501 (0.404 sec)\n",
      "INFO:tensorflow:global_step/sec: 237.448\n",
      "INFO:tensorflow:loss = 230.22092, step = 6601 (0.421 sec)\n",
      "INFO:tensorflow:global_step/sec: 227.054\n",
      "INFO:tensorflow:loss = 309.2702, step = 6701 (0.441 sec)\n",
      "INFO:tensorflow:global_step/sec: 219.12\n",
      "INFO:tensorflow:loss = 1312.9717, step = 6801 (0.458 sec)\n",
      "INFO:tensorflow:global_step/sec: 228.701\n",
      "INFO:tensorflow:loss = 4561.8125, step = 6901 (0.437 sec)\n",
      "INFO:tensorflow:global_step/sec: 250.93\n",
      "INFO:tensorflow:loss = 216.26942, step = 7001 (0.396 sec)\n",
      "INFO:tensorflow:global_step/sec: 256.532\n",
      "INFO:tensorflow:loss = 1344.4935, step = 7101 (0.390 sec)\n",
      "INFO:tensorflow:global_step/sec: 258.506\n",
      "INFO:tensorflow:loss = 2613.168, step = 7201 (0.387 sec)\n",
      "INFO:tensorflow:global_step/sec: 253.828\n",
      "INFO:tensorflow:loss = 321.28662, step = 7301 (0.394 sec)\n",
      "INFO:tensorflow:global_step/sec: 254.43\n",
      "INFO:tensorflow:loss = 3525.9075, step = 7401 (0.393 sec)\n",
      "INFO:tensorflow:global_step/sec: 257.309\n",
      "INFO:tensorflow:loss = 237.576, step = 7501 (0.391 sec)\n",
      "INFO:tensorflow:global_step/sec: 253.525\n",
      "INFO:tensorflow:loss = 1362.174, step = 7601 (0.392 sec)\n",
      "INFO:tensorflow:global_step/sec: 247.496\n",
      "INFO:tensorflow:loss = 1538.5516, step = 7701 (0.407 sec)\n",
      "INFO:tensorflow:global_step/sec: 248.132\n",
      "INFO:tensorflow:loss = 2559.5347, step = 7801 (0.400 sec)\n",
      "INFO:tensorflow:global_step/sec: 244.902\n",
      "INFO:tensorflow:loss = 301.08945, step = 7901 (0.408 sec)\n",
      "INFO:tensorflow:global_step/sec: 252.636\n"
     ]
    },
    {
     "name": "stdout",
     "output_type": "stream",
     "text": [
      "INFO:tensorflow:loss = 1390.378, step = 8001 (0.396 sec)\n",
      "INFO:tensorflow:global_step/sec: 236.639\n",
      "INFO:tensorflow:loss = 1357.333, step = 8101 (0.423 sec)\n",
      "INFO:tensorflow:global_step/sec: 251.953\n",
      "INFO:tensorflow:loss = 260.07535, step = 8201 (0.399 sec)\n",
      "INFO:tensorflow:global_step/sec: 246.781\n",
      "INFO:tensorflow:loss = 1206.9414, step = 8301 (0.405 sec)\n",
      "INFO:tensorflow:global_step/sec: 258.739\n",
      "INFO:tensorflow:loss = 280.35165, step = 8401 (0.386 sec)\n",
      "INFO:tensorflow:global_step/sec: 253.3\n",
      "INFO:tensorflow:loss = 194.58687, step = 8501 (0.393 sec)\n",
      "INFO:tensorflow:global_step/sec: 258.181\n",
      "INFO:tensorflow:loss = 1463.0695, step = 8601 (0.389 sec)\n",
      "INFO:tensorflow:global_step/sec: 253.277\n",
      "INFO:tensorflow:loss = 2360.5508, step = 8701 (0.396 sec)\n",
      "INFO:tensorflow:global_step/sec: 248.465\n",
      "INFO:tensorflow:loss = 350.33325, step = 8801 (0.400 sec)\n",
      "INFO:tensorflow:global_step/sec: 247.612\n",
      "INFO:tensorflow:loss = 1375.4652, step = 8901 (0.407 sec)\n",
      "INFO:tensorflow:global_step/sec: 197.676\n",
      "INFO:tensorflow:loss = 1381.9714, step = 9001 (0.504 sec)\n",
      "INFO:tensorflow:global_step/sec: 204.259\n",
      "INFO:tensorflow:loss = 2643.2637, step = 9101 (0.491 sec)\n",
      "INFO:tensorflow:global_step/sec: 235.404\n",
      "INFO:tensorflow:loss = 4688.4595, step = 9201 (0.422 sec)\n",
      "INFO:tensorflow:global_step/sec: 234.891\n",
      "INFO:tensorflow:loss = 206.10876, step = 9301 (0.427 sec)\n",
      "INFO:tensorflow:global_step/sec: 250.763\n",
      "INFO:tensorflow:loss = 1339.6865, step = 9401 (0.397 sec)\n",
      "INFO:tensorflow:global_step/sec: 212.26\n",
      "INFO:tensorflow:loss = 1371.2968, step = 9501 (0.475 sec)\n",
      "INFO:tensorflow:global_step/sec: 243.863\n",
      "INFO:tensorflow:loss = 1334.2495, step = 9601 (0.407 sec)\n",
      "INFO:tensorflow:global_step/sec: 254.513\n",
      "INFO:tensorflow:loss = 313.16986, step = 9701 (0.393 sec)\n",
      "INFO:tensorflow:global_step/sec: 248.12\n",
      "INFO:tensorflow:loss = 2445.4077, step = 9801 (0.403 sec)\n",
      "INFO:tensorflow:global_step/sec: 254.429\n",
      "INFO:tensorflow:loss = 357.537, step = 9901 (0.394 sec)\n",
      "INFO:tensorflow:Saving checkpoints for 10000 into /var/folders/_y/f4nlgpcs6x79pmncgymhg4hh0000gn/T/tmprkno2ew8/model.ckpt.\n",
      "INFO:tensorflow:Loss for final step: 2514.9858.\n"
     ]
    },
    {
     "data": {
      "text/plain": [
       "<tensorflow.python.estimator.canned.dnn.DNNRegressor at 0x1a30ad2898>"
      ]
     },
     "execution_count": 148,
     "metadata": {},
     "output_type": "execute_result"
    }
   ],
   "source": [
    "model.train(input_fn=input_func,steps=10000)"
   ]
  },
  {
   "cell_type": "code",
   "execution_count": 149,
   "metadata": {},
   "outputs": [],
   "source": [
    "predict_input_func = tf.estimator.inputs.pandas_input_fn(\n",
    "      x=x_test,\n",
    "      batch_size=50,\n",
    "      num_epochs=1,\n",
    "      shuffle=False)"
   ]
  },
  {
   "cell_type": "code",
   "execution_count": 150,
   "metadata": {},
   "outputs": [],
   "source": [
    "pred_gen = model.predict(predict_input_func)"
   ]
  },
  {
   "cell_type": "code",
   "execution_count": 151,
   "metadata": {},
   "outputs": [
    {
     "name": "stdout",
     "output_type": "stream",
     "text": [
      "INFO:tensorflow:Calling model_fn.\n",
      "INFO:tensorflow:Done calling model_fn.\n",
      "INFO:tensorflow:Graph was finalized.\n",
      "INFO:tensorflow:Restoring parameters from /var/folders/_y/f4nlgpcs6x79pmncgymhg4hh0000gn/T/tmprkno2ew8/model.ckpt-10000\n",
      "INFO:tensorflow:Running local_init_op.\n",
      "INFO:tensorflow:Done running local_init_op.\n"
     ]
    }
   ],
   "source": [
    "predictions = list(pred_gen)"
   ]
  },
  {
   "cell_type": "code",
   "execution_count": 152,
   "metadata": {},
   "outputs": [],
   "source": [
    "final_preds = []\n",
    "for pred in predictions:\n",
    "    final_preds.append(pred['predictions'])"
   ]
  },
  {
   "cell_type": "code",
   "execution_count": 153,
   "metadata": {},
   "outputs": [
    {
     "data": {
      "text/plain": [
       "(123623, 1)"
      ]
     },
     "execution_count": 153,
     "metadata": {},
     "output_type": "execute_result"
    }
   ],
   "source": [
    "np.shape(final_preds)"
   ]
  },
  {
   "cell_type": "code",
   "execution_count": 154,
   "metadata": {},
   "outputs": [
    {
     "data": {
      "text/plain": [
       "array([-7.053858], dtype=float32)"
      ]
     },
     "execution_count": 154,
     "metadata": {},
     "output_type": "execute_result"
    }
   ],
   "source": [
    "min(final_preds)"
   ]
  },
  {
   "cell_type": "code",
   "execution_count": 155,
   "metadata": {},
   "outputs": [
    {
     "data": {
      "text/plain": [
       "array([0.80892026], dtype=float32)"
      ]
     },
     "execution_count": 155,
     "metadata": {},
     "output_type": "execute_result"
    }
   ],
   "source": [
    "max(final_preds)"
   ]
  },
  {
   "cell_type": "code",
   "execution_count": null,
   "metadata": {},
   "outputs": [],
   "source": []
  },
  {
   "cell_type": "code",
   "execution_count": 15,
   "metadata": {
    "collapsed": true
   },
   "outputs": [],
   "source": [
    "lm = LinearRegression()"
   ]
  },
  {
   "cell_type": "code",
   "execution_count": 16,
   "metadata": {
    "collapsed": true
   },
   "outputs": [],
   "source": [
    "train_x = train_df[model_cols]\n",
    "train_x = train_x.fillna(0)\n",
    "train_y = train_df['target'].values"
   ]
  },
  {
   "cell_type": "code",
   "execution_count": 17,
   "metadata": {},
   "outputs": [
    {
     "data": {
      "text/plain": [
       "LinearRegression(copy_X=True, fit_intercept=True, n_jobs=1, normalize=False)"
      ]
     },
     "execution_count": 17,
     "metadata": {},
     "output_type": "execute_result"
    }
   ],
   "source": [
    "lm.fit(train_x, train_y)"
   ]
  },
  {
   "cell_type": "code",
   "execution_count": 22,
   "metadata": {
    "collapsed": true
   },
   "outputs": [],
   "source": [
    "test_x = test_df[model_cols]\n",
    "test_x = test_x.fillna(0)"
   ]
  },
  {
   "cell_type": "code",
   "execution_count": 23,
   "metadata": {
    "collapsed": true
   },
   "outputs": [],
   "source": [
    "test_pred = lm.predict(test_x)"
   ]
  },
  {
   "cell_type": "code",
   "execution_count": 24,
   "metadata": {
    "collapsed": true
   },
   "outputs": [],
   "source": [
    "submission = pd.DataFrame(test_pred)\n",
    "submission.columns=['target']\n",
    "submission = pd.concat([test_df['card_id'], submission], axis=1)\n",
    "submission.to_csv('submission.csv', index=False)"
   ]
  },
  {
   "cell_type": "code",
   "execution_count": 25,
   "metadata": {},
   "outputs": [
    {
     "data": {
      "text/plain": [
       "(123623, 2)"
      ]
     },
     "execution_count": 25,
     "metadata": {},
     "output_type": "execute_result"
    }
   ],
   "source": [
    "np.shape(submission)"
   ]
  },
  {
   "cell_type": "code",
   "execution_count": 104,
   "metadata": {},
   "outputs": [
    {
     "data": {
      "text/html": [
       "<div>\n",
       "<style scoped>\n",
       "    .dataframe tbody tr th:only-of-type {\n",
       "        vertical-align: middle;\n",
       "    }\n",
       "\n",
       "    .dataframe tbody tr th {\n",
       "        vertical-align: top;\n",
       "    }\n",
       "\n",
       "    .dataframe thead th {\n",
       "        text-align: right;\n",
       "    }\n",
       "</style>\n",
       "<table border=\"1\" class=\"dataframe\">\n",
       "  <thead>\n",
       "    <tr style=\"text-align: right;\">\n",
       "      <th></th>\n",
       "      <th>feature_1</th>\n",
       "      <th>feature_2</th>\n",
       "      <th>feature_3</th>\n",
       "      <th>num_hist_transactions</th>\n",
       "      <th>sum_hist_trans</th>\n",
       "      <th>mean_hist_trans</th>\n",
       "      <th>min_hist_trans</th>\n",
       "      <th>max_hist_trans</th>\n",
       "      <th>num_merch_transactions</th>\n",
       "      <th>sum_merch_trans</th>\n",
       "      <th>mean_merch_trans</th>\n",
       "      <th>min_merch_trans</th>\n",
       "      <th>max_merch_trans</th>\n",
       "    </tr>\n",
       "  </thead>\n",
       "  <tbody>\n",
       "    <tr>\n",
       "      <th>0</th>\n",
       "      <td>1.00</td>\n",
       "      <td>0.5</td>\n",
       "      <td>1.0</td>\n",
       "      <td>0.088660</td>\n",
       "      <td>0.000320</td>\n",
       "      <td>2.136813e-07</td>\n",
       "      <td>0.000256</td>\n",
       "      <td>4.997350e-07</td>\n",
       "      <td>0.203704</td>\n",
       "      <td>0.320008</td>\n",
       "      <td>0.003807</td>\n",
       "      <td>0.000501</td>\n",
       "      <td>0.005822</td>\n",
       "    </tr>\n",
       "    <tr>\n",
       "      <th>1</th>\n",
       "      <td>0.75</td>\n",
       "      <td>0.0</td>\n",
       "      <td>0.0</td>\n",
       "      <td>0.119588</td>\n",
       "      <td>0.000312</td>\n",
       "      <td>2.901925e-07</td>\n",
       "      <td>0.000154</td>\n",
       "      <td>8.943550e-07</td>\n",
       "      <td>0.046296</td>\n",
       "      <td>0.369416</td>\n",
       "      <td>0.000466</td>\n",
       "      <td>0.000167</td>\n",
       "      <td>0.000582</td>\n",
       "    </tr>\n",
       "    <tr>\n",
       "      <th>2</th>\n",
       "      <td>0.25</td>\n",
       "      <td>0.5</td>\n",
       "      <td>0.0</td>\n",
       "      <td>0.014089</td>\n",
       "      <td>0.000342</td>\n",
       "      <td>1.338821e-07</td>\n",
       "      <td>0.000572</td>\n",
       "      <td>9.973500e-08</td>\n",
       "      <td>0.000000</td>\n",
       "      <td>0.389735</td>\n",
       "      <td>0.001036</td>\n",
       "      <td>0.001036</td>\n",
       "      <td>0.000601</td>\n",
       "    </tr>\n",
       "    <tr>\n",
       "      <th>3</th>\n",
       "      <td>0.75</td>\n",
       "      <td>1.0</td>\n",
       "      <td>0.0</td>\n",
       "      <td>0.025773</td>\n",
       "      <td>0.000339</td>\n",
       "      <td>2.048895e-07</td>\n",
       "      <td>0.000205</td>\n",
       "      <td>3.645075e-07</td>\n",
       "      <td>0.055556</td>\n",
       "      <td>0.367756</td>\n",
       "      <td>0.001825</td>\n",
       "      <td>0.000284</td>\n",
       "      <td>0.002327</td>\n",
       "    </tr>\n",
       "    <tr>\n",
       "      <th>4</th>\n",
       "      <td>0.00</td>\n",
       "      <td>1.0</td>\n",
       "      <td>0.0</td>\n",
       "      <td>0.045017</td>\n",
       "      <td>0.000339</td>\n",
       "      <td>7.572579e-07</td>\n",
       "      <td>0.000026</td>\n",
       "      <td>1.320725e-06</td>\n",
       "      <td>0.324074</td>\n",
       "      <td>0.282865</td>\n",
       "      <td>0.004304</td>\n",
       "      <td>0.000167</td>\n",
       "      <td>0.015469</td>\n",
       "    </tr>\n",
       "  </tbody>\n",
       "</table>\n",
       "</div>"
      ],
      "text/plain": [
       "   feature_1  feature_2  feature_3  num_hist_transactions  sum_hist_trans  \\\n",
       "0       1.00        0.5        1.0               0.088660        0.000320   \n",
       "1       0.75        0.0        0.0               0.119588        0.000312   \n",
       "2       0.25        0.5        0.0               0.014089        0.000342   \n",
       "3       0.75        1.0        0.0               0.025773        0.000339   \n",
       "4       0.00        1.0        0.0               0.045017        0.000339   \n",
       "\n",
       "   mean_hist_trans  min_hist_trans  max_hist_trans  num_merch_transactions  \\\n",
       "0     2.136813e-07        0.000256    4.997350e-07                0.203704   \n",
       "1     2.901925e-07        0.000154    8.943550e-07                0.046296   \n",
       "2     1.338821e-07        0.000572    9.973500e-08                0.000000   \n",
       "3     2.048895e-07        0.000205    3.645075e-07                0.055556   \n",
       "4     7.572579e-07        0.000026    1.320725e-06                0.324074   \n",
       "\n",
       "   sum_merch_trans  mean_merch_trans  min_merch_trans  max_merch_trans  \n",
       "0         0.320008          0.003807         0.000501         0.005822  \n",
       "1         0.369416          0.000466         0.000167         0.000582  \n",
       "2         0.389735          0.001036         0.001036         0.000601  \n",
       "3         0.367756          0.001825         0.000284         0.002327  \n",
       "4         0.282865          0.004304         0.000167         0.015469  "
      ]
     },
     "execution_count": 104,
     "metadata": {},
     "output_type": "execute_result"
    }
   ],
   "source": [
    "X_train.head()"
   ]
  },
  {
   "cell_type": "code",
   "execution_count": null,
   "metadata": {},
   "outputs": [],
   "source": []
  },
  {
   "cell_type": "code",
   "execution_count": null,
   "metadata": {},
   "outputs": [],
   "source": []
  },
  {
   "cell_type": "code",
   "execution_count": null,
   "metadata": {},
   "outputs": [],
   "source": []
  },
  {
   "cell_type": "code",
   "execution_count": null,
   "metadata": {},
   "outputs": [],
   "source": []
  },
  {
   "cell_type": "markdown",
   "metadata": {},
   "source": [
    "## Logistic Regression with Oversampling"
   ]
  },
  {
   "cell_type": "code",
   "execution_count": 23,
   "metadata": {},
   "outputs": [],
   "source": [
    "from sklearn.linear_model import LogisticRegression"
   ]
  },
  {
   "cell_type": "code",
   "execution_count": 24,
   "metadata": {},
   "outputs": [],
   "source": [
    "y_train = y_train > -7"
   ]
  },
  {
   "cell_type": "code",
   "execution_count": 26,
   "metadata": {},
   "outputs": [
    {
     "data": {
      "text/plain": [
       "0    True\n",
       "1    True\n",
       "2    True\n",
       "3    True\n",
       "4    True\n",
       "5    True\n",
       "6    True\n",
       "7    True\n",
       "8    True\n",
       "9    True\n",
       "Name: target, dtype: bool"
      ]
     },
     "execution_count": 26,
     "metadata": {},
     "output_type": "execute_result"
    }
   ],
   "source": [
    "y_train.head(10)"
   ]
  },
  {
   "cell_type": "code",
   "execution_count": 27,
   "metadata": {},
   "outputs": [],
   "source": [
    "clf = LogisticRegression(random_state=0, solver='liblinear',multi_class='ovr').fit(X_train, y_train)"
   ]
  },
  {
   "cell_type": "code",
   "execution_count": 28,
   "metadata": {},
   "outputs": [
    {
     "data": {
      "text/plain": [
       "0.9871778998301283"
      ]
     },
     "execution_count": 28,
     "metadata": {},
     "output_type": "execute_result"
    }
   ],
   "source": [
    "clf.score(X_train, y_train)"
   ]
  },
  {
   "cell_type": "code",
   "execution_count": 29,
   "metadata": {},
   "outputs": [
    {
     "data": {
      "text/plain": [
       "199329"
      ]
     },
     "execution_count": 29,
     "metadata": {},
     "output_type": "execute_result"
    }
   ],
   "source": [
    "sum(y_train)"
   ]
  },
  {
   "cell_type": "code",
   "execution_count": null,
   "metadata": {},
   "outputs": [],
   "source": []
  }
 ],
 "metadata": {
  "kernelspec": {
   "display_name": "Python 3",
   "language": "python",
   "name": "python3"
  },
  "language_info": {
   "codemirror_mode": {
    "name": "ipython",
    "version": 3
   },
   "file_extension": ".py",
   "mimetype": "text/x-python",
   "name": "python",
   "nbconvert_exporter": "python",
   "pygments_lexer": "ipython3",
   "version": "3.5.6"
  }
 },
 "nbformat": 4,
 "nbformat_minor": 2
}
