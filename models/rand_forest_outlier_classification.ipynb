{
 "cells": [
  {
   "cell_type": "code",
   "execution_count": 186,
   "metadata": {},
   "outputs": [],
   "source": [
    "import pandas as pd\n",
    "import numpy as np\n",
    "import matplotlib.pyplot as plt\n",
    "import seaborn as sns\n",
    "from sklearn.model_selection import cross_validate, train_test_split\n",
    "from sklearn.ensemble import RandomForestClassifier\n",
    "from sklearn.metrics import mean_squared_error, r2_score, accuracy_score, confusion_matrix"
   ]
  },
  {
   "cell_type": "code",
   "execution_count": 73,
   "metadata": {},
   "outputs": [],
   "source": [
    "train = pd.read_csv('../data/new_train.csv')\n",
    "test = pd.read_csv('../data/new_test.csv')\n",
    "mcf = pd.read_csv('../data/monthly_card_features.csv')"
   ]
  },
  {
   "cell_type": "code",
   "execution_count": 74,
   "metadata": {},
   "outputs": [],
   "source": [
    "train = train.drop(columns=['Unnamed: 0', 'first_active_month']).set_index('card_id')\n",
    "test = test.drop(columns=['Unnamed: 0', 'first_active_month']).set_index('card_id')"
   ]
  },
  {
   "cell_type": "code",
   "execution_count": 75,
   "metadata": {},
   "outputs": [
    {
     "name": "stderr",
     "output_type": "stream",
     "text": [
      "/Users/michaelfedell/anaconda3/lib/python3.7/site-packages/pandas/core/reshape/merge.py:522: UserWarning: merging between different levels can give an unintended result (1 levels on the left, 2 on the right)\n",
      "  warnings.warn(msg, UserWarning)\n"
     ]
    }
   ],
   "source": [
    "train = train.join(mcf.groupby('card_id').agg({\n",
    "    'amt_total': [np.min, np.mean, np.max],\n",
    "    'NDR':       [np.min, np.mean, np.max],\n",
    "    'n_new_merchants':   np.mean,\n",
    "    'n_total_merchants': np.max\n",
    "}))\n",
    "test = test.join(mcf.groupby('card_id').agg({\n",
    "    'amt_total': [np.min, np.mean, np.max],\n",
    "    'NDR':       [np.min, np.mean, np.max],\n",
    "    'n_new_merchants':   np.mean,\n",
    "    'n_total_merchants': np.max\n",
    "}))"
   ]
  },
  {
   "cell_type": "code",
   "execution_count": 76,
   "metadata": {},
   "outputs": [],
   "source": [
    "train.columns = ['_'.join(col).strip() if isinstance(col, tuple) else col for col in train.columns.values]\n",
    "test.columns = ['_'.join(col).strip() if isinstance(col, tuple) else col for col in test.columns.values]"
   ]
  },
  {
   "cell_type": "code",
   "execution_count": 77,
   "metadata": {},
   "outputs": [],
   "source": [
    "train['chump'] = train['target'] < -20"
   ]
  },
  {
   "cell_type": "code",
   "execution_count": 78,
   "metadata": {},
   "outputs": [
    {
     "data": {
      "text/plain": [
       "Index(['feature_1', 'feature_2', 'feature_3', 'target', 'tof', 'recency',\n",
       "       'frequency', 'log_freq', 'amt', 'avg_amt', 'charge_per_day',\n",
       "       'log_charge_per_day', 'max_amt', 'n_declines', 'log_n_declines',\n",
       "       'prop_new', 'merch_cat_1_Y', 'merch_cat_2_1', 'merch_cat_2_2',\n",
       "       'merch_cat_2_3', 'merch_cat_2_4', 'merch_cat_2_5', 'amt_total_amin',\n",
       "       'amt_total_mean', 'amt_total_amax', 'NDR_amin', 'NDR_mean', 'NDR_amax',\n",
       "       'n_new_merchants_mean', 'n_total_merchants_amax', 'chump'],\n",
       "      dtype='object')"
      ]
     },
     "execution_count": 78,
     "metadata": {},
     "output_type": "execute_result"
    }
   ],
   "source": [
    "train.columns"
   ]
  },
  {
   "cell_type": "code",
   "execution_count": 141,
   "metadata": {},
   "outputs": [
    {
     "data": {
      "text/plain": [
       "count     22070\n",
       "unique        2\n",
       "top       False\n",
       "freq      19863\n",
       "Name: chump, dtype: object"
      ]
     },
     "execution_count": 141,
     "metadata": {},
     "output_type": "execute_result"
    }
   ],
   "source": [
    "balanced = pd.concat([\n",
    "    train[train.chump],\n",
    "    train[~train.chump].sample(n=9 * len(train[train.chump]))\n",
    "])\n",
    "balanced.chump.describe()"
   ]
  },
  {
   "cell_type": "code",
   "execution_count": 176,
   "metadata": {},
   "outputs": [],
   "source": [
    "# Train on balanced data (10% chumps)\n",
    "X = balanced.drop(columns=['chump', 'target'])\n",
    "Y = balanced['chump']\n",
    "\n",
    "# Train on original, imbalanced data (1% chumps)\n",
    "# X = train.drop(columns=['chump', 'target'])\n",
    "# Y = train['chump']"
   ]
  },
  {
   "cell_type": "code",
   "execution_count": 177,
   "metadata": {},
   "outputs": [
    {
     "data": {
      "text/plain": [
       "(15449, 29)"
      ]
     },
     "execution_count": 177,
     "metadata": {},
     "output_type": "execute_result"
    }
   ],
   "source": [
    "X_train, X_val, Y_train, Y_val = train_test_split(X, Y, test_size=0.3)\n",
    "X_train.shape"
   ]
  },
  {
   "cell_type": "code",
   "execution_count": 178,
   "metadata": {},
   "outputs": [
    {
     "data": {
      "text/plain": [
       "(6621, 29)"
      ]
     },
     "execution_count": 178,
     "metadata": {},
     "output_type": "execute_result"
    }
   ],
   "source": [
    "X_val.shape"
   ]
  },
  {
   "cell_type": "code",
   "execution_count": 179,
   "metadata": {},
   "outputs": [
    {
     "name": "stdout",
     "output_type": "stream",
     "text": [
      "Accuracy: 0.9092282132608367\n"
     ]
    }
   ],
   "source": [
    "clf = RandomForestClassifier(n_estimators=100)\n",
    "clf.fit(X_train, Y_train)\n",
    "Y_pred = clf.predict(X_val)\n",
    "print(\"Accuracy:\", accuracy_score(Y_val, Y_pred))"
   ]
  },
  {
   "cell_type": "code",
   "execution_count": 180,
   "metadata": {},
   "outputs": [
    {
     "data": {
      "text/plain": [
       "0.9884110798001159"
      ]
     },
     "execution_count": 180,
     "metadata": {},
     "output_type": "execute_result"
    }
   ],
   "source": [
    "accuracy_score(train['chump'], clf.predict(train.drop(columns=['chump', 'target'])))"
   ]
  },
  {
   "cell_type": "code",
   "execution_count": 181,
   "metadata": {},
   "outputs": [
    {
     "data": {
      "text/plain": [
       "0.9890697662901093"
      ]
     },
     "execution_count": 181,
     "metadata": {},
     "output_type": "execute_result"
    }
   ],
   "source": [
    "1 - sum(train['target'] < -20) / len(train)"
   ]
  },
  {
   "cell_type": "code",
   "execution_count": 182,
   "metadata": {},
   "outputs": [
    {
     "data": {
      "text/plain": [
       "recency                   0.157624\n",
       "merch_cat_1_Y             0.057438\n",
       "tof                       0.056300\n",
       "prop_new                  0.048282\n",
       "NDR_mean                  0.043043\n",
       "amt_total_amin            0.040847\n",
       "log_charge_per_day        0.039492\n",
       "amt                       0.038958\n",
       "charge_per_day            0.038956\n",
       "max_amt                   0.038836\n",
       "amt_total_amax            0.038421\n",
       "n_new_merchants_mean      0.037446\n",
       "amt_total_mean            0.037395\n",
       "avg_amt                   0.036986\n",
       "n_declines                0.033483\n",
       "n_total_merchants_amax    0.033294\n",
       "merch_cat_2_1             0.032146\n",
       "log_n_declines            0.031892\n",
       "frequency                 0.030683\n",
       "log_freq                  0.029804\n",
       "NDR_amin                  0.022713\n",
       "merch_cat_2_5             0.014350\n",
       "merch_cat_2_3             0.013241\n",
       "feature_1                 0.012151\n",
       "feature_2                 0.011512\n",
       "merch_cat_2_4             0.010613\n",
       "merch_cat_2_2             0.009006\n",
       "feature_3                 0.005087\n",
       "NDR_amax                  0.000000\n",
       "dtype: float64"
      ]
     },
     "execution_count": 182,
     "metadata": {},
     "output_type": "execute_result"
    }
   ],
   "source": [
    "feature_imp = pd.Series(clf.feature_importances_,index=X_train.columns).sort_values(ascending=False)\n",
    "feature_imp"
   ]
  },
  {
   "cell_type": "code",
   "execution_count": 198,
   "metadata": {},
   "outputs": [
    {
     "data": {
      "text/plain": [
       "array([[5892,   52],\n",
       "       [ 549,  128]])"
      ]
     },
     "execution_count": 198,
     "metadata": {},
     "output_type": "execute_result"
    }
   ],
   "source": [
    "confusion_matrix(Y_val, Y_pred)"
   ]
  },
  {
   "cell_type": "code",
   "execution_count": 195,
   "metadata": {},
   "outputs": [
    {
     "name": "stderr",
     "output_type": "stream",
     "text": [
      "No handles with labels found to put in legend.\n"
     ]
    },
    {
     "data": {
      "image/png": "[encoded data removed]",
      "text/plain": [
       "<Figure size 432x288 with 1 Axes>"
      ]
     },
     "metadata": {
      "needs_background": "light"
     },
     "output_type": "display_data"
    }
   ],
   "source": [
    "sns.barplot(x=feature_imp.head(10), y=feature_imp.index[:10])\n",
    "# Add labels to your graph\n",
    "plt.xlabel('Feature Importance Score')\n",
    "plt.ylabel('Features')\n",
    "plt.title(\"Visualizing Important Features\")\n",
    "plt.legend()\n",
    "plt.show()"
   ]
  },
  {
   "cell_type": "code",
   "execution_count": 1,
   "metadata": {},
   "outputs": [
    {
     "ename": "NameError",
     "evalue": "name 'train' is not defined",
     "output_type": "error",
     "traceback": [
      "\u001b[0;31m---------------------------------------------------------------------------\u001b[0m",
      "\u001b[0;31mNameError\u001b[0m                                 Traceback (most recent call last)",
      "\u001b[0;32m<ipython-input-1-3536571a9bc3>\u001b[0m in \u001b[0;36m<module>\u001b[0;34m\u001b[0m\n\u001b[0;32m----> 1\u001b[0;31m \u001b[0mtrain\u001b[0m\u001b[0;34m\u001b[0m\u001b[0;34m\u001b[0m\u001b[0m\n\u001b[0m",
      "\u001b[0;31mNameError\u001b[0m: name 'train' is not defined"
     ]
    }
   ],
   "source": [
    "train"
   ]
  },
  {
   "cell_type": "code",
   "execution_count": null,
   "metadata": {},
   "outputs": [],
   "source": []
  }
 ],
 "metadata": {
  "kernelspec": {
   "display_name": "Python 3",
   "language": "python",
   "name": "python3"
  },
  "language_info": {
   "codemirror_mode": {
    "name": "ipython",
    "version": 3
   },
   "file_extension": ".py",
   "mimetype": "text/x-python",
   "name": "python",
   "nbconvert_exporter": "python",
   "pygments_lexer": "ipython3",
   "version": "3.7.1"
  }
 },
 "nbformat": 4,
 "nbformat_minor": 2
}
