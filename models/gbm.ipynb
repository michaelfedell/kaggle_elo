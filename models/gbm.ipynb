{
 "cells": [
  {
   "cell_type": "code",
   "execution_count": 1,
   "metadata": {},
   "outputs": [],
   "source": [
    "import os\n",
    "import pandas as pd\n",
    "import matplotlib.pyplot as plt\n",
    "import numpy as np\n",
    "from sklearn.neural_network import MLPRegressor\n",
    "from sklearn.ensemble import GradientBoostingRegressor\n",
    "from sklearn.model_selection import StratifiedKFold, KFold, GridSearchCV\n",
    "from sklearn.metrics import mean_squared_error\n",
    "from sklearn.metrics import log_loss\n",
    "from sklearn.metrics import mean_squared_error\n",
    "from math import sqrt\n",
    "import lightgbm as lgb\n",
    "import time"
   ]
  },
  {
   "cell_type": "code",
   "execution_count": 2,
   "metadata": {},
   "outputs": [],
   "source": [
    "train = pd.read_csv(os.path.join('data', 'train.csv'))\n",
    "test = pd.read_csv(os.path.join('data', 'test.csv'))\n",
    "hist = pd.read_csv(os.path.join('data', 'historical_transactions.csv'))\n",
    "merch = pd.read_csv(os.path.join('data', 'merchants.csv'))\n",
    "new_merch = pd.read_csv(os.path.join('data', 'new_merchant_transactions.csv'))\n",
    "mcf = pd.read_csv(\"monthly_card_features.csv\")\n",
    "new_train = pd.read_csv(\"new_train.csv\")\n",
    "new_test = pd.read_csv(\"new_test.csv\")"
   ]
  },
  {
   "cell_type": "code",
   "execution_count": 3,
   "metadata": {},
   "outputs": [],
   "source": [
    "hist[\"purchase_raw\"] = hist[\"purchase_amount\"] / 0.00150265118 + 497.06\n",
    "new_merch[\"purchase_raw\"] = new_merch[\"purchase_amount\"] / 0.00150265118 + 497.06\n",
    "train['target_raw'] = 2**train['target']"
   ]
  },
  {
   "cell_type": "code",
   "execution_count": 151,
   "metadata": {},
   "outputs": [],
   "source": [
    "#mcf.groupby([\"card_id\"]).mean().merge(train, on = \"card_id\").corr()"
   ]
  },
  {
   "cell_type": "code",
   "execution_count": 4,
   "metadata": {},
   "outputs": [],
   "source": [
    "temp_mcf = mcf.groupby([\"card_id\"]).mean()"
   ]
  },
  {
   "cell_type": "code",
   "execution_count": 5,
   "metadata": {},
   "outputs": [],
   "source": [
    "train = train.merge(temp_mcf, on = \"card_id\")"
   ]
  },
  {
   "cell_type": "code",
   "execution_count": 6,
   "metadata": {},
   "outputs": [],
   "source": [
    "test = test.merge(temp_mcf , on = \"card_id\")"
   ]
  },
  {
   "cell_type": "code",
   "execution_count": 7,
   "metadata": {},
   "outputs": [],
   "source": [
    "tr = new_train.merge(temp_mcf, on = \"card_id\")"
   ]
  },
  {
   "cell_type": "code",
   "execution_count": 8,
   "metadata": {},
   "outputs": [],
   "source": [
    "te = new_test.merge(temp_mcf, on = \"card_id\")"
   ]
  },
  {
   "cell_type": "code",
   "execution_count": 9,
   "metadata": {},
   "outputs": [],
   "source": [
    "training = tr.drop([tr.columns[0],\"first_active_month\", \"card_id\", \"target\"], axis = 1)"
   ]
  },
  {
   "cell_type": "code",
   "execution_count": 10,
   "metadata": {},
   "outputs": [],
   "source": [
    "testing = te.drop([te.columns[0],\"first_active_month\", \"card_id\"], axis = 1)"
   ]
  },
  {
   "cell_type": "code",
   "execution_count": 13,
   "metadata": {},
   "outputs": [],
   "source": [
    "target = tr[\"target\"]"
   ]
  },
  {
   "cell_type": "code",
   "execution_count": 14,
   "metadata": {},
   "outputs": [],
   "source": [
    "tr_no = tr[tr['target'] > -20]\n",
    "training_no = tr_no.drop([tr_no.columns[0],\"first_active_month\", \"card_id\", \"target\"], axis = 1)\n",
    "target_no = tr_no['target']"
   ]
  },
  {
   "cell_type": "code",
   "execution_count": 15,
   "metadata": {},
   "outputs": [
    {
     "data": {
      "text/html": [
       "<div>\n",
       "<style scoped>\n",
       "    .dataframe tbody tr th:only-of-type {\n",
       "        vertical-align: middle;\n",
       "    }\n",
       "\n",
       "    .dataframe tbody tr th {\n",
       "        vertical-align: top;\n",
       "    }\n",
       "\n",
       "    .dataframe thead th {\n",
       "        text-align: right;\n",
       "    }\n",
       "</style>\n",
       "<table border=\"1\" class=\"dataframe\">\n",
       "  <thead>\n",
       "    <tr style=\"text-align: right;\">\n",
       "      <th></th>\n",
       "      <th>feature_1</th>\n",
       "      <th>feature_2</th>\n",
       "      <th>feature_3</th>\n",
       "      <th>tof</th>\n",
       "      <th>recency</th>\n",
       "      <th>frequency</th>\n",
       "      <th>log_freq</th>\n",
       "      <th>amt</th>\n",
       "      <th>avg_amt</th>\n",
       "      <th>charge_per_day</th>\n",
       "      <th>...</th>\n",
       "      <th>merch_cat_2_2</th>\n",
       "      <th>merch_cat_2_3</th>\n",
       "      <th>merch_cat_2_4</th>\n",
       "      <th>merch_cat_2_5</th>\n",
       "      <th>month_lag</th>\n",
       "      <th>amt_total</th>\n",
       "      <th>amt_new</th>\n",
       "      <th>NDR</th>\n",
       "      <th>n_new_merchants</th>\n",
       "      <th>n_total_merchants</th>\n",
       "    </tr>\n",
       "  </thead>\n",
       "  <tbody>\n",
       "    <tr>\n",
       "      <th>count</th>\n",
       "      <td>199710.000000</td>\n",
       "      <td>199710.000000</td>\n",
       "      <td>199710.000000</td>\n",
       "      <td>199710.000000</td>\n",
       "      <td>199710.000000</td>\n",
       "      <td>199710.000000</td>\n",
       "      <td>199710.000000</td>\n",
       "      <td>1.997100e+05</td>\n",
       "      <td>199710.000000</td>\n",
       "      <td>199710.000000</td>\n",
       "      <td>...</td>\n",
       "      <td>199710.000000</td>\n",
       "      <td>199710.000000</td>\n",
       "      <td>199710.000000</td>\n",
       "      <td>199710.000000</td>\n",
       "      <td>199710.000000</td>\n",
       "      <td>1.997100e+05</td>\n",
       "      <td>1.997100e+05</td>\n",
       "      <td>199710.000000</td>\n",
       "      <td>199710.000000</td>\n",
       "      <td>199710.000000</td>\n",
       "    </tr>\n",
       "    <tr>\n",
       "      <th>mean</th>\n",
       "      <td>3.103996</td>\n",
       "      <td>1.745000</td>\n",
       "      <td>0.565285</td>\n",
       "      <td>350.416794</td>\n",
       "      <td>56.194532</td>\n",
       "      <td>95.449041</td>\n",
       "      <td>4.101275</td>\n",
       "      <td>1.109401e+01</td>\n",
       "      <td>1.519812</td>\n",
       "      <td>0.280781</td>\n",
       "      <td>...</td>\n",
       "      <td>3.351179</td>\n",
       "      <td>12.939708</td>\n",
       "      <td>8.564183</td>\n",
       "      <td>12.210435</td>\n",
       "      <td>-3.141029</td>\n",
       "      <td>7.625674e+03</td>\n",
       "      <td>6.407671e+03</td>\n",
       "      <td>0.681026</td>\n",
       "      <td>4.614413</td>\n",
       "      <td>24.170710</td>\n",
       "    </tr>\n",
       "    <tr>\n",
       "      <th>std</th>\n",
       "      <td>1.185855</td>\n",
       "      <td>0.750679</td>\n",
       "      <td>0.495721</td>\n",
       "      <td>119.321843</td>\n",
       "      <td>75.689871</td>\n",
       "      <td>107.139007</td>\n",
       "      <td>0.964509</td>\n",
       "      <td>1.352179e+04</td>\n",
       "      <td>708.594765</td>\n",
       "      <td>0.285439</td>\n",
       "      <td>...</td>\n",
       "      <td>24.032367</td>\n",
       "      <td>44.394485</td>\n",
       "      <td>40.231007</td>\n",
       "      <td>45.405123</td>\n",
       "      <td>2.034249</td>\n",
       "      <td>1.793450e+06</td>\n",
       "      <td>1.792587e+06</td>\n",
       "      <td>0.191681</td>\n",
       "      <td>3.294622</td>\n",
       "      <td>21.029100</td>\n",
       "    </tr>\n",
       "    <tr>\n",
       "      <th>min</th>\n",
       "      <td>1.000000</td>\n",
       "      <td>1.000000</td>\n",
       "      <td>0.000000</td>\n",
       "      <td>120.000000</td>\n",
       "      <td>0.000000</td>\n",
       "      <td>2.000000</td>\n",
       "      <td>0.693147</td>\n",
       "      <td>-2.089630e+03</td>\n",
       "      <td>-0.745371</td>\n",
       "      <td>0.004255</td>\n",
       "      <td>...</td>\n",
       "      <td>0.000000</td>\n",
       "      <td>0.000000</td>\n",
       "      <td>0.000000</td>\n",
       "      <td>0.000000</td>\n",
       "      <td>-12.000000</td>\n",
       "      <td>3.445000e+00</td>\n",
       "      <td>7.142857e-02</td>\n",
       "      <td>0.071429</td>\n",
       "      <td>1.000000</td>\n",
       "      <td>1.000000</td>\n",
       "    </tr>\n",
       "    <tr>\n",
       "      <th>25%</th>\n",
       "      <td>2.000000</td>\n",
       "      <td>1.000000</td>\n",
       "      <td>0.000000</td>\n",
       "      <td>241.000000</td>\n",
       "      <td>7.000000</td>\n",
       "      <td>31.000000</td>\n",
       "      <td>3.433987</td>\n",
       "      <td>-7.023937e+01</td>\n",
       "      <td>-0.677769</td>\n",
       "      <td>0.096939</td>\n",
       "      <td>...</td>\n",
       "      <td>0.000000</td>\n",
       "      <td>0.000000</td>\n",
       "      <td>0.000000</td>\n",
       "      <td>0.000000</td>\n",
       "      <td>-5.000000</td>\n",
       "      <td>3.110148e+02</td>\n",
       "      <td>1.969507e+02</td>\n",
       "      <td>0.551268</td>\n",
       "      <td>2.400000</td>\n",
       "      <td>10.000000</td>\n",
       "    </tr>\n",
       "    <tr>\n",
       "      <th>50%</th>\n",
       "      <td>3.000000</td>\n",
       "      <td>2.000000</td>\n",
       "      <td>1.000000</td>\n",
       "      <td>374.000000</td>\n",
       "      <td>26.000000</td>\n",
       "      <td>60.000000</td>\n",
       "      <td>4.094345</td>\n",
       "      <td>-3.367446e+01</td>\n",
       "      <td>-0.620319</td>\n",
       "      <td>0.190476</td>\n",
       "      <td>...</td>\n",
       "      <td>0.000000</td>\n",
       "      <td>0.000000</td>\n",
       "      <td>0.000000</td>\n",
       "      <td>0.000000</td>\n",
       "      <td>-3.000000</td>\n",
       "      <td>6.107410e+02</td>\n",
       "      <td>3.922689e+02</td>\n",
       "      <td>0.693371</td>\n",
       "      <td>3.700000</td>\n",
       "      <td>18.000000</td>\n",
       "    </tr>\n",
       "    <tr>\n",
       "      <th>75%</th>\n",
       "      <td>4.000000</td>\n",
       "      <td>2.000000</td>\n",
       "      <td>1.000000</td>\n",
       "      <td>471.000000</td>\n",
       "      <td>69.000000</td>\n",
       "      <td>118.000000</td>\n",
       "      <td>4.770685</td>\n",
       "      <td>-1.469988e+01</td>\n",
       "      <td>-0.503041</td>\n",
       "      <td>0.360000</td>\n",
       "      <td>...</td>\n",
       "      <td>0.000000</td>\n",
       "      <td>2.000000</td>\n",
       "      <td>0.000000</td>\n",
       "      <td>1.000000</td>\n",
       "      <td>-1.500000</td>\n",
       "      <td>1.287505e+03</td>\n",
       "      <td>8.409493e+02</td>\n",
       "      <td>0.826079</td>\n",
       "      <td>5.750000</td>\n",
       "      <td>31.285714</td>\n",
       "    </tr>\n",
       "    <tr>\n",
       "      <th>max</th>\n",
       "      <td>5.000000</td>\n",
       "      <td>3.000000</td>\n",
       "      <td>1.000000</td>\n",
       "      <td>484.000000</td>\n",
       "      <td>450.000000</td>\n",
       "      <td>2915.000000</td>\n",
       "      <td>7.977625</td>\n",
       "      <td>6.010591e+06</td>\n",
       "      <td>316346.913213</td>\n",
       "      <td>6.085595</td>\n",
       "      <td>...</td>\n",
       "      <td>2554.000000</td>\n",
       "      <td>1222.000000</td>\n",
       "      <td>1389.000000</td>\n",
       "      <td>1226.000000</td>\n",
       "      <td>0.500000</td>\n",
       "      <td>8.000001e+08</td>\n",
       "      <td>8.000001e+08</td>\n",
       "      <td>1.000000</td>\n",
       "      <td>47.500000</td>\n",
       "      <td>260.428571</td>\n",
       "    </tr>\n",
       "  </tbody>\n",
       "</table>\n",
       "<p>8 rows × 27 columns</p>\n",
       "</div>"
      ],
      "text/plain": [
       "           feature_1      feature_2      feature_3            tof  \\\n",
       "count  199710.000000  199710.000000  199710.000000  199710.000000   \n",
       "mean        3.103996       1.745000       0.565285     350.416794   \n",
       "std         1.185855       0.750679       0.495721     119.321843   \n",
       "min         1.000000       1.000000       0.000000     120.000000   \n",
       "25%         2.000000       1.000000       0.000000     241.000000   \n",
       "50%         3.000000       2.000000       1.000000     374.000000   \n",
       "75%         4.000000       2.000000       1.000000     471.000000   \n",
       "max         5.000000       3.000000       1.000000     484.000000   \n",
       "\n",
       "             recency      frequency       log_freq           amt  \\\n",
       "count  199710.000000  199710.000000  199710.000000  1.997100e+05   \n",
       "mean       56.194532      95.449041       4.101275  1.109401e+01   \n",
       "std        75.689871     107.139007       0.964509  1.352179e+04   \n",
       "min         0.000000       2.000000       0.693147 -2.089630e+03   \n",
       "25%         7.000000      31.000000       3.433987 -7.023937e+01   \n",
       "50%        26.000000      60.000000       4.094345 -3.367446e+01   \n",
       "75%        69.000000     118.000000       4.770685 -1.469988e+01   \n",
       "max       450.000000    2915.000000       7.977625  6.010591e+06   \n",
       "\n",
       "             avg_amt  charge_per_day        ...          merch_cat_2_2  \\\n",
       "count  199710.000000   199710.000000        ...          199710.000000   \n",
       "mean        1.519812        0.280781        ...               3.351179   \n",
       "std       708.594765        0.285439        ...              24.032367   \n",
       "min        -0.745371        0.004255        ...               0.000000   \n",
       "25%        -0.677769        0.096939        ...               0.000000   \n",
       "50%        -0.620319        0.190476        ...               0.000000   \n",
       "75%        -0.503041        0.360000        ...               0.000000   \n",
       "max    316346.913213        6.085595        ...            2554.000000   \n",
       "\n",
       "       merch_cat_2_3  merch_cat_2_4  merch_cat_2_5      month_lag  \\\n",
       "count  199710.000000  199710.000000  199710.000000  199710.000000   \n",
       "mean       12.939708       8.564183      12.210435      -3.141029   \n",
       "std        44.394485      40.231007      45.405123       2.034249   \n",
       "min         0.000000       0.000000       0.000000     -12.000000   \n",
       "25%         0.000000       0.000000       0.000000      -5.000000   \n",
       "50%         0.000000       0.000000       0.000000      -3.000000   \n",
       "75%         2.000000       0.000000       1.000000      -1.500000   \n",
       "max      1222.000000    1389.000000    1226.000000       0.500000   \n",
       "\n",
       "          amt_total       amt_new            NDR  n_new_merchants  \\\n",
       "count  1.997100e+05  1.997100e+05  199710.000000    199710.000000   \n",
       "mean   7.625674e+03  6.407671e+03       0.681026         4.614413   \n",
       "std    1.793450e+06  1.792587e+06       0.191681         3.294622   \n",
       "min    3.445000e+00  7.142857e-02       0.071429         1.000000   \n",
       "25%    3.110148e+02  1.969507e+02       0.551268         2.400000   \n",
       "50%    6.107410e+02  3.922689e+02       0.693371         3.700000   \n",
       "75%    1.287505e+03  8.409493e+02       0.826079         5.750000   \n",
       "max    8.000001e+08  8.000001e+08       1.000000        47.500000   \n",
       "\n",
       "       n_total_merchants  \n",
       "count      199710.000000  \n",
       "mean           24.170710  \n",
       "std            21.029100  \n",
       "min             1.000000  \n",
       "25%            10.000000  \n",
       "50%            18.000000  \n",
       "75%            31.285714  \n",
       "max           260.428571  \n",
       "\n",
       "[8 rows x 27 columns]"
      ]
     },
     "execution_count": 15,
     "metadata": {},
     "output_type": "execute_result"
    }
   ],
   "source": [
    "training_no.head()\n",
    "training_no.describe()"
   ]
  },
  {
   "cell_type": "markdown",
   "metadata": {},
   "source": [
    "## Cross Validation"
   ]
  },
  {
   "cell_type": "code",
   "execution_count": 251,
   "metadata": {},
   "outputs": [],
   "source": []
  },
  {
   "cell_type": "code",
   "execution_count": 16,
   "metadata": {},
   "outputs": [
    {
     "data": {
      "text/plain": [
       "(201917, 27)"
      ]
     },
     "execution_count": 16,
     "metadata": {},
     "output_type": "execute_result"
    }
   ],
   "source": [
    "training.shape"
   ]
  },
  {
   "cell_type": "code",
   "execution_count": 17,
   "metadata": {},
   "outputs": [],
   "source": [
    "training = np.array(training)\n",
    "testing = np.array(testing)"
   ]
  },
  {
   "cell_type": "code",
   "execution_count": 17,
   "metadata": {},
   "outputs": [],
   "source": [
    "#params = {\"n_estimators\":[25,30],\"learning_rate\":[.01, .1], \"max_depth\":[5,8]}"
   ]
  },
  {
   "cell_type": "code",
   "execution_count": 18,
   "metadata": {},
   "outputs": [],
   "source": [
    "start_time = time.time()\n",
    "\n",
    "params = {\"n_estimators\":[100, 200, 300],\"learning_rate\":[.01, .1, 1], \"max_depth\":[5, 8, 10]}\n",
    "gsearch = GridSearchCV(estimator = GradientBoostingRegressor(n_estimators=100,learning_rate=0.01,\n",
    "                                                               max_depth=5,random_state=0), \n",
    "param_grid = params, scoring='r2',n_jobs=4,iid=False, cv=5)\n",
    "out = gsearch.fit(training,target)\n",
    "\n",
    "end_time = time.time()"
   ]
  },
  {
   "cell_type": "code",
   "execution_count": 19,
   "metadata": {},
   "outputs": [
    {
     "data": {
      "text/plain": [
       "GridSearchCV(cv=5, error_score='raise',\n",
       "       estimator=GradientBoostingRegressor(alpha=0.9, criterion='friedman_mse', init=None,\n",
       "             learning_rate=0.01, loss='ls', max_depth=5, max_features=None,\n",
       "             max_leaf_nodes=None, min_impurity_decrease=0.0,\n",
       "             min_impurity_split=None, min_samples_leaf=1,\n",
       "             min_samples_split=2, min_weight_fraction_leaf=0.0,\n",
       "             n_estimators=100, presort='auto', random_state=0,\n",
       "             subsample=1.0, verbose=0, warm_start=False),\n",
       "       fit_params=None, iid=False, n_jobs=4,\n",
       "       param_grid={'n_estimators': [100], 'learning_rate': [0.01, 0.1, 1], 'max_depth': [5]},\n",
       "       pre_dispatch='2*n_jobs', refit=True, return_train_score='warn',\n",
       "       scoring='r2', verbose=0)"
      ]
     },
     "execution_count": 19,
     "metadata": {},
     "output_type": "execute_result"
    }
   ],
   "source": [
    "out\n"
   ]
  },
  {
   "cell_type": "code",
   "execution_count": 20,
   "metadata": {},
   "outputs": [
    {
     "data": {
      "text/plain": [
       "GradientBoostingRegressor(alpha=0.9, criterion='friedman_mse', init=None,\n",
       "             learning_rate=0.1, loss='ls', max_depth=5, max_features=None,\n",
       "             max_leaf_nodes=None, min_impurity_decrease=0.0,\n",
       "             min_impurity_split=None, min_samples_leaf=1,\n",
       "             min_samples_split=2, min_weight_fraction_leaf=0.0,\n",
       "             n_estimators=100, presort='auto', random_state=0,\n",
       "             subsample=1.0, verbose=0, warm_start=False)"
      ]
     },
     "execution_count": 20,
     "metadata": {},
     "output_type": "execute_result"
    }
   ],
   "source": [
    "out.best_estimator_"
   ]
  },
  {
   "cell_type": "code",
   "execution_count": 21,
   "metadata": {},
   "outputs": [
    {
     "name": "stderr",
     "output_type": "stream",
     "text": [
      "C:\\Users\\JD Cook\\Anaconda3\\lib\\site-packages\\sklearn\\model_selection\\_search.py:761: DeprecationWarning: The grid_scores_ attribute was deprecated in version 0.18 in favor of the more elaborate cv_results_ attribute. The grid_scores_ attribute will not be available from 0.20\n",
      "  DeprecationWarning)\n"
     ]
    },
    {
     "data": {
      "text/plain": [
       "([mean: 0.04970, std: 0.00277, params: {'learning_rate': 0.01, 'max_depth': 5, 'n_estimators': 100},\n",
       "  mean: 0.06695, std: 0.00608, params: {'learning_rate': 0.1, 'max_depth': 5, 'n_estimators': 100},\n",
       "  mean: -0.24483, std: 0.03769, params: {'learning_rate': 1, 'max_depth': 5, 'n_estimators': 100}],\n",
       " {'learning_rate': 0.1, 'max_depth': 5, 'n_estimators': 100},\n",
       " 0.06694514907409546)"
      ]
     },
     "execution_count": 21,
     "metadata": {},
     "output_type": "execute_result"
    }
   ],
   "source": [
    "out.grid_scores_, out.best_params_, out.best_score_"
   ]
  },
  {
   "cell_type": "code",
   "execution_count": 25,
   "metadata": {},
   "outputs": [
    {
     "data": {
      "text/plain": [
       "39.177983295917514"
      ]
     },
     "execution_count": 25,
     "metadata": {},
     "output_type": "execute_result"
    }
   ],
   "source": [
    "(end_time - start_time) / 60"
   ]
  },
  {
   "cell_type": "code",
   "execution_count": 31,
   "metadata": {},
   "outputs": [
    {
     "name": "stderr",
     "output_type": "stream",
     "text": [
      "C:\\Users\\JD Cook\\Anaconda3\\lib\\site-packages\\sklearn\\utils\\deprecation.py:122: FutureWarning: You are accessing a training score ('split0_train_score'), which will not be available by default any more in 0.21. If you need training scores, please set return_train_score=True\n",
      "  warnings.warn(*warn_args, **warn_kwargs)\n",
      "C:\\Users\\JD Cook\\Anaconda3\\lib\\site-packages\\sklearn\\utils\\deprecation.py:122: FutureWarning: You are accessing a training score ('split1_train_score'), which will not be available by default any more in 0.21. If you need training scores, please set return_train_score=True\n",
      "  warnings.warn(*warn_args, **warn_kwargs)\n",
      "C:\\Users\\JD Cook\\Anaconda3\\lib\\site-packages\\sklearn\\utils\\deprecation.py:122: FutureWarning: You are accessing a training score ('split2_train_score'), which will not be available by default any more in 0.21. If you need training scores, please set return_train_score=True\n",
      "  warnings.warn(*warn_args, **warn_kwargs)\n",
      "C:\\Users\\JD Cook\\Anaconda3\\lib\\site-packages\\sklearn\\utils\\deprecation.py:122: FutureWarning: You are accessing a training score ('split3_train_score'), which will not be available by default any more in 0.21. If you need training scores, please set return_train_score=True\n",
      "  warnings.warn(*warn_args, **warn_kwargs)\n",
      "C:\\Users\\JD Cook\\Anaconda3\\lib\\site-packages\\sklearn\\utils\\deprecation.py:122: FutureWarning: You are accessing a training score ('split4_train_score'), which will not be available by default any more in 0.21. If you need training scores, please set return_train_score=True\n",
      "  warnings.warn(*warn_args, **warn_kwargs)\n",
      "C:\\Users\\JD Cook\\Anaconda3\\lib\\site-packages\\sklearn\\utils\\deprecation.py:122: FutureWarning: You are accessing a training score ('mean_train_score'), which will not be available by default any more in 0.21. If you need training scores, please set return_train_score=True\n",
      "  warnings.warn(*warn_args, **warn_kwargs)\n",
      "C:\\Users\\JD Cook\\Anaconda3\\lib\\site-packages\\sklearn\\utils\\deprecation.py:122: FutureWarning: You are accessing a training score ('std_train_score'), which will not be available by default any more in 0.21. If you need training scores, please set return_train_score=True\n",
      "  warnings.warn(*warn_args, **warn_kwargs)\n"
     ]
    },
    {
     "data": {
      "text/plain": [
       "{'mean_fit_time': array([619.1544836 , 558.02277956, 461.26403618]),\n",
       " 'std_fit_time': array([ 9.64035249,  3.94872955, 61.65765596]),\n",
       " 'mean_score_time': array([0.33849893, 0.24714751, 0.22559118]),\n",
       " 'std_score_time': array([0.02198159, 0.0142029 , 0.08049183]),\n",
       " 'param_learning_rate': masked_array(data=[0.01, 0.1, 1],\n",
       "              mask=[False, False, False],\n",
       "        fill_value='?',\n",
       "             dtype=object),\n",
       " 'param_max_depth': masked_array(data=[5, 5, 5],\n",
       "              mask=[False, False, False],\n",
       "        fill_value='?',\n",
       "             dtype=object),\n",
       " 'param_n_estimators': masked_array(data=[100, 100, 100],\n",
       "              mask=[False, False, False],\n",
       "        fill_value='?',\n",
       "             dtype=object),\n",
       " 'params': [{'learning_rate': 0.01, 'max_depth': 5, 'n_estimators': 100},\n",
       "  {'learning_rate': 0.1, 'max_depth': 5, 'n_estimators': 100},\n",
       "  {'learning_rate': 1, 'max_depth': 5, 'n_estimators': 100}],\n",
       " 'split0_test_score': array([ 0.05149821,  0.06766288, -0.2568273 ]),\n",
       " 'split1_test_score': array([ 0.04981507,  0.06429489, -0.28370418]),\n",
       " 'split2_test_score': array([ 0.05167405,  0.07305321, -0.1993593 ]),\n",
       " 'split3_test_score': array([ 0.04431912,  0.05675313, -0.28313042]),\n",
       " 'split4_test_score': array([ 0.05118411,  0.07296162, -0.20110562]),\n",
       " 'mean_test_score': array([ 0.04969811,  0.06694515, -0.24482537]),\n",
       " 'std_test_score': array([0.00276768, 0.00608149, 0.03768678]),\n",
       " 'rank_test_score': array([2, 1, 3]),\n",
       " 'split0_train_score': array([0.06061721, 0.13598664, 0.35528437]),\n",
       " 'split1_train_score': array([0.06151148, 0.14160934, 0.35921433]),\n",
       " 'split2_train_score': array([0.06048589, 0.13307555, 0.34881345]),\n",
       " 'split3_train_score': array([0.0629192 , 0.14421539, 0.35927738]),\n",
       " 'split4_train_score': array([0.06004602, 0.13480549, 0.34421874]),\n",
       " 'mean_train_score': array([0.06111596, 0.13793848, 0.35336165]),\n",
       " 'std_train_score': array([0.00101967, 0.00424613, 0.00595358])}"
      ]
     },
     "execution_count": 31,
     "metadata": {},
     "output_type": "execute_result"
    }
   ],
   "source": []
  },
  {
   "cell_type": "code",
   "execution_count": null,
   "metadata": {},
   "outputs": [],
   "source": []
  },
  {
   "cell_type": "code",
   "execution_count": 22,
   "metadata": {},
   "outputs": [],
   "source": [
    "# kf = KFold(n_splits=2)\n",
    "# kf.get_n_splits(training)"
   ]
  },
  {
   "cell_type": "code",
   "execution_count": 23,
   "metadata": {},
   "outputs": [],
   "source": [
    "# rmse = []\n",
    "\n",
    "# parameters = {'kernel':('linear', 'rbf'), 'C':[1, 10]}\n",
    "# svc = svm.SVC(gamma=\"scale\")\n",
    "# clf = GridSearchCV(svc, parameters, cv=5)\n",
    "# clf.fit(iris.data, iris.target)\n",
    "\n",
    "# for train_index, test_index in kf.split(training_no):\n",
    "#     print(\"TRAIN:\", train_index, \"TEST:\", test_index)\n",
    "#     X_train, X_test = training[train_index], training[test_index]\n",
    "#     y_train, y_test = target[train_index], target[test_index]\n",
    "    \n",
    "#     for i in range(10):\n",
    "#     est = GradientBoostingRegressor(n_estimators=50, learning_rate=0.1, \n",
    "#                                 max_depth=10, random_state=0, loss='ls').fit(X_train, y_train)\n",
    "    \n",
    "#     preds = est.predict(X_test)\n",
    "#     rms = sqrt(mean_squared_error(y_test, preds))\n",
    "#     print(rms)\n",
    "#     rmse.append(rms)\n",
    "    "
   ]
  },
  {
   "cell_type": "code",
   "execution_count": 221,
   "metadata": {},
   "outputs": [],
   "source": []
  },
  {
   "cell_type": "code",
   "execution_count": null,
   "metadata": {},
   "outputs": [],
   "source": []
  },
  {
   "cell_type": "code",
   "execution_count": 26,
   "metadata": {},
   "outputs": [],
   "source": [
    "est = GradientBoostingRegressor(n_estimators=100, learning_rate=0.1, \n",
    "                                max_depth=5, random_state=0, loss='ls').fit(training, target)"
   ]
  },
  {
   "cell_type": "code",
   "execution_count": 27,
   "metadata": {},
   "outputs": [],
   "source": [
    "preds = est.predict(testing)"
   ]
  },
  {
   "cell_type": "code",
   "execution_count": 32,
   "metadata": {},
   "outputs": [
    {
     "data": {
      "text/plain": [
       "array([0.00843707, 0.00316245, 0.00496303, 0.03387758, 0.18580802,\n",
       "       0.01496189, 0.01645434, 0.04311035, 0.03477223, 0.01994632,\n",
       "       0.02570546, 0.04590409, 0.02197238, 0.03056773, 0.07389079,\n",
       "       0.10730452, 0.02478021, 0.01612672, 0.01386501, 0.02028455,\n",
       "       0.01016212, 0.07809694, 0.02530678, 0.02973599, 0.06102051,\n",
       "       0.02348053, 0.0263024 ])"
      ]
     },
     "execution_count": 32,
     "metadata": {},
     "output_type": "execute_result"
    }
   ],
   "source": [
    "est.feature_importances_"
   ]
  },
  {
   "cell_type": "code",
   "execution_count": 51,
   "metadata": {},
   "outputs": [],
   "source": [
    "nam = list(tr.columns[3:])"
   ]
  },
  {
   "cell_type": "code",
   "execution_count": 54,
   "metadata": {},
   "outputs": [],
   "source": [
    "del nam[3:4]"
   ]
  },
  {
   "cell_type": "code",
   "execution_count": 57,
   "metadata": {},
   "outputs": [],
   "source": [
    "importance = pd.DataFrame(\n",
    "{\"Feature\" : nam,\n",
    "\"Importance\" : est.feature_importances_}\n",
    ")"
   ]
  },
  {
   "cell_type": "code",
   "execution_count": 63,
   "metadata": {},
   "outputs": [],
   "source": [
    "importance.sort_values(\"Importance\", ascending=False).to_clipboard(excel = True)"
   ]
  },
  {
   "cell_type": "code",
   "execution_count": null,
   "metadata": {},
   "outputs": [],
   "source": []
  },
  {
   "cell_type": "code",
   "execution_count": 74,
   "metadata": {},
   "outputs": [
    {
     "data": {
      "text/plain": [
       "201917"
      ]
     },
     "execution_count": 74,
     "metadata": {},
     "output_type": "execute_result"
    }
   ],
   "source": []
  },
  {
   "cell_type": "code",
   "execution_count": null,
   "metadata": {},
   "outputs": [],
   "source": []
  },
  {
   "cell_type": "code",
   "execution_count": null,
   "metadata": {},
   "outputs": [],
   "source": []
  },
  {
   "cell_type": "code",
   "execution_count": 28,
   "metadata": {},
   "outputs": [],
   "source": [
    "submit = pd.DataFrame(\n",
    "{\"card_id\" : te[\"card_id\"],\n",
    "\"target\" : preds}\n",
    ")"
   ]
  },
  {
   "cell_type": "code",
   "execution_count": 29,
   "metadata": {},
   "outputs": [
    {
     "data": {
      "text/html": [
       "<div>\n",
       "<style scoped>\n",
       "    .dataframe tbody tr th:only-of-type {\n",
       "        vertical-align: middle;\n",
       "    }\n",
       "\n",
       "    .dataframe tbody tr th {\n",
       "        vertical-align: top;\n",
       "    }\n",
       "\n",
       "    .dataframe thead th {\n",
       "        text-align: right;\n",
       "    }\n",
       "</style>\n",
       "<table border=\"1\" class=\"dataframe\">\n",
       "  <thead>\n",
       "    <tr style=\"text-align: right;\">\n",
       "      <th></th>\n",
       "      <th>card_id</th>\n",
       "      <th>target</th>\n",
       "    </tr>\n",
       "  </thead>\n",
       "  <tbody>\n",
       "    <tr>\n",
       "      <th>0</th>\n",
       "      <td>C_ID_0ab67a22ab</td>\n",
       "      <td>-1.330444</td>\n",
       "    </tr>\n",
       "    <tr>\n",
       "      <th>1</th>\n",
       "      <td>C_ID_130fd0cbdd</td>\n",
       "      <td>-0.409459</td>\n",
       "    </tr>\n",
       "    <tr>\n",
       "      <th>2</th>\n",
       "      <td>C_ID_b709037bc5</td>\n",
       "      <td>-0.342483</td>\n",
       "    </tr>\n",
       "    <tr>\n",
       "      <th>3</th>\n",
       "      <td>C_ID_d27d835a9f</td>\n",
       "      <td>-0.187621</td>\n",
       "    </tr>\n",
       "    <tr>\n",
       "      <th>4</th>\n",
       "      <td>C_ID_2b5e3df5c2</td>\n",
       "      <td>-0.341806</td>\n",
       "    </tr>\n",
       "  </tbody>\n",
       "</table>\n",
       "</div>"
      ],
      "text/plain": [
       "           card_id    target\n",
       "0  C_ID_0ab67a22ab -1.330444\n",
       "1  C_ID_130fd0cbdd -0.409459\n",
       "2  C_ID_b709037bc5 -0.342483\n",
       "3  C_ID_d27d835a9f -0.187621\n",
       "4  C_ID_2b5e3df5c2 -0.341806"
      ]
     },
     "execution_count": 29,
     "metadata": {},
     "output_type": "execute_result"
    }
   ],
   "source": [
    "submit.to_csv(\"submission4.csv\", index = False)\n",
    "submit.head()"
   ]
  },
  {
   "cell_type": "code",
   "execution_count": 30,
   "metadata": {},
   "outputs": [
    {
     "data": {
      "text/plain": [
       "(123623, 2)"
      ]
     },
     "execution_count": 30,
     "metadata": {},
     "output_type": "execute_result"
    }
   ],
   "source": [
    "submit.shape"
   ]
  },
  {
   "cell_type": "code",
   "execution_count": null,
   "metadata": {},
   "outputs": [],
   "source": []
  },
  {
   "cell_type": "code",
   "execution_count": 260,
   "metadata": {},
   "outputs": [
    {
     "data": {
      "text/html": [
       "<div>\n",
       "<style scoped>\n",
       "    .dataframe tbody tr th:only-of-type {\n",
       "        vertical-align: middle;\n",
       "    }\n",
       "\n",
       "    .dataframe tbody tr th {\n",
       "        vertical-align: top;\n",
       "    }\n",
       "\n",
       "    .dataframe thead th {\n",
       "        text-align: right;\n",
       "    }\n",
       "</style>\n",
       "<table border=\"1\" class=\"dataframe\">\n",
       "  <thead>\n",
       "    <tr style=\"text-align: right;\">\n",
       "      <th></th>\n",
       "      <th>Unnamed: 0</th>\n",
       "      <th>first_active_month</th>\n",
       "      <th>card_id</th>\n",
       "      <th>feature_1</th>\n",
       "      <th>feature_2</th>\n",
       "      <th>feature_3</th>\n",
       "      <th>target</th>\n",
       "      <th>tof</th>\n",
       "      <th>recency</th>\n",
       "      <th>frequency</th>\n",
       "      <th>...</th>\n",
       "      <th>merch_cat_2_2</th>\n",
       "      <th>merch_cat_2_3</th>\n",
       "      <th>merch_cat_2_4</th>\n",
       "      <th>merch_cat_2_5</th>\n",
       "      <th>month_lag</th>\n",
       "      <th>amt_total</th>\n",
       "      <th>amt_new</th>\n",
       "      <th>NDR</th>\n",
       "      <th>n_new_merchants</th>\n",
       "      <th>n_total_merchants</th>\n",
       "    </tr>\n",
       "  </thead>\n",
       "  <tbody>\n",
       "    <tr>\n",
       "      <th>0</th>\n",
       "      <td>0</td>\n",
       "      <td>2017-06</td>\n",
       "      <td>C_ID_92a2005557</td>\n",
       "      <td>5</td>\n",
       "      <td>2</td>\n",
       "      <td>1</td>\n",
       "      <td>-0.820283</td>\n",
       "      <td>307</td>\n",
       "      <td>1</td>\n",
       "      <td>283</td>\n",
       "      <td>...</td>\n",
       "      <td>0</td>\n",
       "      <td>0</td>\n",
       "      <td>0</td>\n",
       "      <td>3</td>\n",
       "      <td>-3.0</td>\n",
       "      <td>1945.770909</td>\n",
       "      <td>1250.068182</td>\n",
       "      <td>0.628712</td>\n",
       "      <td>10.727273</td>\n",
       "      <td>64.636364</td>\n",
       "    </tr>\n",
       "    <tr>\n",
       "      <th>1</th>\n",
       "      <td>1</td>\n",
       "      <td>2017-01</td>\n",
       "      <td>C_ID_3d0044924f</td>\n",
       "      <td>4</td>\n",
       "      <td>1</td>\n",
       "      <td>0</td>\n",
       "      <td>0.392913</td>\n",
       "      <td>479</td>\n",
       "      <td>31</td>\n",
       "      <td>356</td>\n",
       "      <td>...</td>\n",
       "      <td>0</td>\n",
       "      <td>0</td>\n",
       "      <td>0</td>\n",
       "      <td>0</td>\n",
       "      <td>-5.0</td>\n",
       "      <td>2286.496667</td>\n",
       "      <td>1343.459333</td>\n",
       "      <td>0.579422</td>\n",
       "      <td>9.866667</td>\n",
       "      <td>87.600000</td>\n",
       "    </tr>\n",
       "    <tr>\n",
       "      <th>2</th>\n",
       "      <td>2</td>\n",
       "      <td>2016-08</td>\n",
       "      <td>C_ID_d639edf6cd</td>\n",
       "      <td>2</td>\n",
       "      <td>2</td>\n",
       "      <td>0</td>\n",
       "      <td>0.688056</td>\n",
       "      <td>474</td>\n",
       "      <td>2</td>\n",
       "      <td>44</td>\n",
       "      <td>...</td>\n",
       "      <td>0</td>\n",
       "      <td>0</td>\n",
       "      <td>0</td>\n",
       "      <td>40</td>\n",
       "      <td>-6.0</td>\n",
       "      <td>153.381538</td>\n",
       "      <td>63.333077</td>\n",
       "      <td>0.278886</td>\n",
       "      <td>2.333333</td>\n",
       "      <td>10.538462</td>\n",
       "    </tr>\n",
       "    <tr>\n",
       "      <th>3</th>\n",
       "      <td>3</td>\n",
       "      <td>2017-09</td>\n",
       "      <td>C_ID_186d6a6901</td>\n",
       "      <td>4</td>\n",
       "      <td>3</td>\n",
       "      <td>0</td>\n",
       "      <td>0.142495</td>\n",
       "      <td>216</td>\n",
       "      <td>12</td>\n",
       "      <td>84</td>\n",
       "      <td>...</td>\n",
       "      <td>0</td>\n",
       "      <td>0</td>\n",
       "      <td>59</td>\n",
       "      <td>0</td>\n",
       "      <td>-1.5</td>\n",
       "      <td>714.946250</td>\n",
       "      <td>600.791250</td>\n",
       "      <td>0.863584</td>\n",
       "      <td>7.125000</td>\n",
       "      <td>39.000000</td>\n",
       "    </tr>\n",
       "    <tr>\n",
       "      <th>4</th>\n",
       "      <td>4</td>\n",
       "      <td>2017-11</td>\n",
       "      <td>C_ID_cdbd2c0db2</td>\n",
       "      <td>1</td>\n",
       "      <td>3</td>\n",
       "      <td>0</td>\n",
       "      <td>-0.159749</td>\n",
       "      <td>169</td>\n",
       "      <td>2</td>\n",
       "      <td>169</td>\n",
       "      <td>...</td>\n",
       "      <td>0</td>\n",
       "      <td>7</td>\n",
       "      <td>132</td>\n",
       "      <td>1</td>\n",
       "      <td>-0.5</td>\n",
       "      <td>6390.208333</td>\n",
       "      <td>5883.170000</td>\n",
       "      <td>0.923486</td>\n",
       "      <td>17.166667</td>\n",
       "      <td>59.166667</td>\n",
       "    </tr>\n",
       "  </tbody>\n",
       "</table>\n",
       "<p>5 rows × 31 columns</p>\n",
       "</div>"
      ],
      "text/plain": [
       "   Unnamed: 0 first_active_month          card_id  feature_1  feature_2  \\\n",
       "0           0            2017-06  C_ID_92a2005557          5          2   \n",
       "1           1            2017-01  C_ID_3d0044924f          4          1   \n",
       "2           2            2016-08  C_ID_d639edf6cd          2          2   \n",
       "3           3            2017-09  C_ID_186d6a6901          4          3   \n",
       "4           4            2017-11  C_ID_cdbd2c0db2          1          3   \n",
       "\n",
       "   feature_3    target  tof  recency  frequency        ...          \\\n",
       "0          1 -0.820283  307        1        283        ...           \n",
       "1          0  0.392913  479       31        356        ...           \n",
       "2          0  0.688056  474        2         44        ...           \n",
       "3          0  0.142495  216       12         84        ...           \n",
       "4          0 -0.159749  169        2        169        ...           \n",
       "\n",
       "   merch_cat_2_2  merch_cat_2_3  merch_cat_2_4  merch_cat_2_5  month_lag  \\\n",
       "0              0              0              0              3       -3.0   \n",
       "1              0              0              0              0       -5.0   \n",
       "2              0              0              0             40       -6.0   \n",
       "3              0              0             59              0       -1.5   \n",
       "4              0              7            132              1       -0.5   \n",
       "\n",
       "     amt_total      amt_new       NDR  n_new_merchants  n_total_merchants  \n",
       "0  1945.770909  1250.068182  0.628712        10.727273          64.636364  \n",
       "1  2286.496667  1343.459333  0.579422         9.866667          87.600000  \n",
       "2   153.381538    63.333077  0.278886         2.333333          10.538462  \n",
       "3   714.946250   600.791250  0.863584         7.125000          39.000000  \n",
       "4  6390.208333  5883.170000  0.923486        17.166667          59.166667  \n",
       "\n",
       "[5 rows x 31 columns]"
      ]
     },
     "execution_count": 260,
     "metadata": {},
     "output_type": "execute_result"
    }
   ],
   "source": []
  },
  {
   "cell_type": "code",
   "execution_count": null,
   "metadata": {},
   "outputs": [],
   "source": []
  },
  {
   "cell_type": "code",
   "execution_count": null,
   "metadata": {},
   "outputs": [],
   "source": []
  },
  {
   "cell_type": "markdown",
   "metadata": {},
   "source": [
    "## LightGBM"
   ]
  },
  {
   "cell_type": "code",
   "execution_count": null,
   "metadata": {},
   "outputs": [],
   "source": []
  },
  {
   "cell_type": "code",
   "execution_count": 266,
   "metadata": {},
   "outputs": [],
   "source": [
    "outs = tr[tr.outlier]\n",
    "ins = tr[-tr.outlier]"
   ]
  },
  {
   "cell_type": "code",
   "execution_count": null,
   "metadata": {},
   "outputs": [],
   "source": []
  },
  {
   "cell_type": "code",
   "execution_count": 286,
   "metadata": {},
   "outputs": [],
   "source": [
    "tra = tr\n",
    "tes = te\n",
    "tra['outlier'] = tra['target'] < -20"
   ]
  },
  {
   "cell_type": "code",
   "execution_count": 287,
   "metadata": {},
   "outputs": [],
   "source": [
    "target = tra['outlier']\n",
    "del tra['outlier']\n",
    "del tra['target']"
   ]
  },
  {
   "cell_type": "code",
   "execution_count": 288,
   "metadata": {},
   "outputs": [],
   "source": [
    "features = [c for c in tra.columns if c not in ['Unnamed: 0', 'card_id', 'first_active_month']]\n",
    "categorical_feats = [c for c in features if 'feature_' in c]"
   ]
  },
  {
   "cell_type": "code",
   "execution_count": 289,
   "metadata": {},
   "outputs": [],
   "source": [
    "param = {'num_leaves': 31,\n",
    "         'min_data_in_leaf': 30, \n",
    "         'objective':'binary',\n",
    "         'max_depth': 6,\n",
    "         'learning_rate': 0.01,\n",
    "         \"boosting\": \"rf\",\n",
    "         \"feature_fraction\": 0.9,\n",
    "         \"bagging_freq\": 1,\n",
    "         \"bagging_fraction\": 0.9 ,\n",
    "         \"bagging_seed\": 11,\n",
    "         \"metric\": 'binary_logloss',\n",
    "         \"lambda_l1\": 0.1,\n",
    "         \"verbosity\": -1,\n",
    "         \"random_state\": 2333}"
   ]
  },
  {
   "cell_type": "code",
   "execution_count": 291,
   "metadata": {},
   "outputs": [
    {
     "name": "stdout",
     "output_type": "stream",
     "text": [
      "fold n°0\n"
     ]
    },
    {
     "name": "stderr",
     "output_type": "stream",
     "text": [
      "C:\\Users\\JD Cook\\Anaconda3\\lib\\site-packages\\lightgbm\\basic.py:1184: UserWarning: Using categorical_feature in Dataset.\n",
      "  warnings.warn('Using categorical_feature in Dataset.')\n",
      "C:\\Users\\JD Cook\\Anaconda3\\lib\\site-packages\\lightgbm\\basic.py:742: UserWarning: categorical_feature in param dict is overridden.\n",
      "  warnings.warn('categorical_feature in param dict is overridden.')\n"
     ]
    },
    {
     "name": "stdout",
     "output_type": "stream",
     "text": [
      "Training until validation scores don't improve for 200 rounds.\n",
      "[100]\ttraining's binary_logloss: 0.0467675\tvalid_1's binary_logloss: 0.0471705\n",
      "[200]\ttraining's binary_logloss: 0.0467241\tvalid_1's binary_logloss: 0.0471203\n",
      "[300]\ttraining's binary_logloss: 0.0466577\tvalid_1's binary_logloss: 0.0470768\n",
      "[400]\ttraining's binary_logloss: 0.0466437\tvalid_1's binary_logloss: 0.0470687\n",
      "[500]\ttraining's binary_logloss: 0.0466495\tvalid_1's binary_logloss: 0.0470837\n",
      "Early stopping, best iteration is:\n",
      "[348]\ttraining's binary_logloss: 0.0466383\tvalid_1's binary_logloss: 0.0470622\n",
      "fold n°1\n",
      "Training until validation scores don't improve for 200 rounds.\n",
      "[100]\ttraining's binary_logloss: 0.0445756\tvalid_1's binary_logloss: 0.0487765\n",
      "[200]\ttraining's binary_logloss: 0.0445694\tvalid_1's binary_logloss: 0.0487747\n",
      "[300]\ttraining's binary_logloss: 0.0445583\tvalid_1's binary_logloss: 0.0487578\n",
      "Early stopping, best iteration is:\n",
      "[149]\ttraining's binary_logloss: 0.0445538\tvalid_1's binary_logloss: 0.0487609\n",
      "CV score: 0.04791 \n",
      "Wall time: 25.3 s\n"
     ]
    }
   ],
   "source": [
    "%%time\n",
    "folds = KFold(n_splits=2, shuffle=True, random_state=15)\n",
    "oof = np.zeros(len(tra))\n",
    "predictions = np.zeros(len(tes))\n",
    "feature_importance_df = pd.DataFrame()\n",
    "\n",
    "start = time.time()\n",
    "\n",
    "\n",
    "for fold_, (trn_idx, val_idx) in enumerate(folds.split(tra.values, target.values)):\n",
    "    print(\"fold n°{}\".format(fold_))\n",
    "    trn_data = lgb.Dataset(tra.iloc[trn_idx][features], label=target.iloc[trn_idx], categorical_feature=categorical_feats)\n",
    "    val_data = lgb.Dataset(tra.iloc[val_idx][features], label=target.iloc[val_idx], categorical_feature=categorical_feats)\n",
    "\n",
    "    num_round = 10000\n",
    "    clf = lgb.train(param, trn_data, num_round, valid_sets = [trn_data, val_data], verbose_eval=100, early_stopping_rounds = 200)\n",
    "    oof[val_idx] = clf.predict(tra.iloc[val_idx][features], num_iteration=clf.best_iteration)\n",
    "    \n",
    "    fold_importance_df = pd.DataFrame()\n",
    "    fold_importance_df[\"feature\"] = features\n",
    "    fold_importance_df[\"importance\"] = clf.feature_importance()\n",
    "    fold_importance_df[\"fold\"] = fold_ + 1\n",
    "    feature_importance_df = pd.concat([feature_importance_df, fold_importance_df], axis=0)\n",
    "    \n",
    "    predictions += clf.predict(tes[features], num_iteration=clf.best_iteration) / folds.n_splits\n",
    "\n",
    "print(\"CV score: {:<8.5f}\".format(log_loss(target, oof)))"
   ]
  },
  {
   "cell_type": "code",
   "execution_count": 302,
   "metadata": {},
   "outputs": [],
   "source": [
    "trn_data = lgb.Dataset(tr[features], label=target, categorical_feature=categorical_feats)"
   ]
  },
  {
   "cell_type": "code",
   "execution_count": 303,
   "metadata": {},
   "outputs": [
    {
     "name": "stderr",
     "output_type": "stream",
     "text": [
      "C:\\Users\\JD Cook\\Anaconda3\\lib\\site-packages\\lightgbm\\basic.py:1184: UserWarning: Using categorical_feature in Dataset.\n",
      "  warnings.warn('Using categorical_feature in Dataset.')\n"
     ]
    }
   ],
   "source": [
    "clf = lgb.train(param, trn_data, 100)"
   ]
  },
  {
   "cell_type": "code",
   "execution_count": 308,
   "metadata": {},
   "outputs": [],
   "source": [
    "tes = tes.drop([\"Unnamed: 0\", \"first_active_month\", \"card_id\"], axis = 1)"
   ]
  },
  {
   "cell_type": "code",
   "execution_count": 324,
   "metadata": {},
   "outputs": [],
   "source": [
    "y_pred=clf.predict(tes)"
   ]
  },
  {
   "cell_type": "code",
   "execution_count": 326,
   "metadata": {},
   "outputs": [
    {
     "data": {
      "text/plain": [
       "array([[<matplotlib.axes._subplots.AxesSubplot object at 0x000001CA83E3B978>]],\n",
       "      dtype=object)"
      ]
     },
     "execution_count": 326,
     "metadata": {},
     "output_type": "execute_result"
    },
    {
     "data": {
      "image/png": "[encoded data removed]",
      "text/plain": [
       "<Figure size 432x288 with 1 Axes>"
      ]
     },
     "metadata": {},
     "output_type": "display_data"
    }
   ],
   "source": [
    "pd.DataFrame(y_pred).hist()"
   ]
  },
  {
   "cell_type": "code",
   "execution_count": 322,
   "metadata": {},
   "outputs": [],
   "source": [
    "for i in range(0,len(y_pred)):\n",
    "    if y_pred[i]>=.2:       # setting threshold to .5\n",
    "        y_pred[i]=1\n",
    "    else:  \n",
    "        y_pred[i]=0"
   ]
  },
  {
   "cell_type": "code",
   "execution_count": 323,
   "metadata": {},
   "outputs": [
    {
     "data": {
      "text/plain": [
       "0"
      ]
     },
     "execution_count": 323,
     "metadata": {},
     "output_type": "execute_result"
    }
   ],
   "source": [
    "sum(y_pred == 1)"
   ]
  },
  {
   "cell_type": "code",
   "execution_count": 304,
   "metadata": {},
   "outputs": [
    {
     "ename": "ValueError",
     "evalue": "DataFrame.dtypes for data must be int, float or bool.\nDid not expect the data types in fields first_active_month, card_id",
     "output_type": "error",
     "traceback": [
      "\u001b[1;31m---------------------------------------------------------------------------\u001b[0m",
      "\u001b[1;31mValueError\u001b[0m                                Traceback (most recent call last)",
      "\u001b[1;32m<ipython-input-304-7d36ebec6e85>\u001b[0m in \u001b[0;36m<module>\u001b[1;34m()\u001b[0m\n\u001b[0;32m      1\u001b[0m \u001b[1;31m#Prediction\u001b[0m\u001b[1;33m\u001b[0m\u001b[1;33m\u001b[0m\u001b[0m\n\u001b[1;32m----> 2\u001b[1;33m \u001b[0my_pred\u001b[0m\u001b[1;33m=\u001b[0m\u001b[0mclf\u001b[0m\u001b[1;33m.\u001b[0m\u001b[0mpredict\u001b[0m\u001b[1;33m(\u001b[0m\u001b[0mtes\u001b[0m\u001b[1;33m)\u001b[0m\u001b[1;33m\u001b[0m\u001b[0m\n\u001b[0m\u001b[0;32m      3\u001b[0m \u001b[1;31m#convert into binary values\u001b[0m\u001b[1;33m\u001b[0m\u001b[1;33m\u001b[0m\u001b[0m\n\u001b[0;32m      4\u001b[0m \u001b[1;32mfor\u001b[0m \u001b[0mi\u001b[0m \u001b[1;32min\u001b[0m \u001b[0mrange\u001b[0m\u001b[1;33m(\u001b[0m\u001b[1;36m0\u001b[0m\u001b[1;33m,\u001b[0m\u001b[1;36m99\u001b[0m\u001b[1;33m)\u001b[0m\u001b[1;33m:\u001b[0m\u001b[1;33m\u001b[0m\u001b[0m\n\u001b[0;32m      5\u001b[0m     \u001b[1;32mif\u001b[0m \u001b[0my_pred\u001b[0m\u001b[1;33m[\u001b[0m\u001b[0mi\u001b[0m\u001b[1;33m]\u001b[0m\u001b[1;33m>=\u001b[0m\u001b[1;36m.5\u001b[0m\u001b[1;33m:\u001b[0m       \u001b[1;31m# setting threshold to .5\u001b[0m\u001b[1;33m\u001b[0m\u001b[0m\n",
      "\u001b[1;32m~\\Anaconda3\\lib\\site-packages\\lightgbm\\basic.py\u001b[0m in \u001b[0;36mpredict\u001b[1;34m(self, data, num_iteration, raw_score, pred_leaf, pred_contrib, data_has_header, is_reshape, pred_parameter, **kwargs)\u001b[0m\n\u001b[0;32m   2146\u001b[0m         return predictor.predict(data, num_iteration,\n\u001b[0;32m   2147\u001b[0m                                  \u001b[0mraw_score\u001b[0m\u001b[1;33m,\u001b[0m \u001b[0mpred_leaf\u001b[0m\u001b[1;33m,\u001b[0m \u001b[0mpred_contrib\u001b[0m\u001b[1;33m,\u001b[0m\u001b[1;33m\u001b[0m\u001b[0m\n\u001b[1;32m-> 2148\u001b[1;33m                                  data_has_header, is_reshape)\n\u001b[0m\u001b[0;32m   2149\u001b[0m \u001b[1;33m\u001b[0m\u001b[0m\n\u001b[0;32m   2150\u001b[0m     \u001b[1;32mdef\u001b[0m \u001b[0mrefit\u001b[0m\u001b[1;33m(\u001b[0m\u001b[0mself\u001b[0m\u001b[1;33m,\u001b[0m \u001b[0mdata\u001b[0m\u001b[1;33m,\u001b[0m \u001b[0mlabel\u001b[0m\u001b[1;33m,\u001b[0m \u001b[0mdecay_rate\u001b[0m\u001b[1;33m=\u001b[0m\u001b[1;36m0.9\u001b[0m\u001b[1;33m,\u001b[0m \u001b[1;33m**\u001b[0m\u001b[0mkwargs\u001b[0m\u001b[1;33m)\u001b[0m\u001b[1;33m:\u001b[0m\u001b[1;33m\u001b[0m\u001b[0m\n",
      "\u001b[1;32m~\\Anaconda3\\lib\\site-packages\\lightgbm\\basic.py\u001b[0m in \u001b[0;36mpredict\u001b[1;34m(self, data, num_iteration, raw_score, pred_leaf, pred_contrib, data_has_header, is_reshape)\u001b[0m\n\u001b[0;32m    410\u001b[0m         \u001b[1;32mif\u001b[0m \u001b[0misinstance\u001b[0m\u001b[1;33m(\u001b[0m\u001b[0mdata\u001b[0m\u001b[1;33m,\u001b[0m \u001b[0mDataset\u001b[0m\u001b[1;33m)\u001b[0m\u001b[1;33m:\u001b[0m\u001b[1;33m\u001b[0m\u001b[0m\n\u001b[0;32m    411\u001b[0m             \u001b[1;32mraise\u001b[0m \u001b[0mTypeError\u001b[0m\u001b[1;33m(\u001b[0m\u001b[1;34m\"Cannot use Dataset instance for prediction, please use raw data instead\"\u001b[0m\u001b[1;33m)\u001b[0m\u001b[1;33m\u001b[0m\u001b[0m\n\u001b[1;32m--> 412\u001b[1;33m         \u001b[0mdata\u001b[0m \u001b[1;33m=\u001b[0m \u001b[0m_data_from_pandas\u001b[0m\u001b[1;33m(\u001b[0m\u001b[0mdata\u001b[0m\u001b[1;33m,\u001b[0m \u001b[1;32mNone\u001b[0m\u001b[1;33m,\u001b[0m \u001b[1;32mNone\u001b[0m\u001b[1;33m,\u001b[0m \u001b[0mself\u001b[0m\u001b[1;33m.\u001b[0m\u001b[0mpandas_categorical\u001b[0m\u001b[1;33m)\u001b[0m\u001b[1;33m[\u001b[0m\u001b[1;36m0\u001b[0m\u001b[1;33m]\u001b[0m\u001b[1;33m\u001b[0m\u001b[0m\n\u001b[0m\u001b[0;32m    413\u001b[0m         \u001b[0mpredict_type\u001b[0m \u001b[1;33m=\u001b[0m \u001b[0mC_API_PREDICT_NORMAL\u001b[0m\u001b[1;33m\u001b[0m\u001b[0m\n\u001b[0;32m    414\u001b[0m         \u001b[1;32mif\u001b[0m \u001b[0mraw_score\u001b[0m\u001b[1;33m:\u001b[0m\u001b[1;33m\u001b[0m\u001b[0m\n",
      "\u001b[1;32m~\\Anaconda3\\lib\\site-packages\\lightgbm\\basic.py\u001b[0m in \u001b[0;36m_data_from_pandas\u001b[1;34m(data, feature_name, categorical_feature, pandas_categorical)\u001b[0m\n\u001b[0;32m    276\u001b[0m             msg = (\"DataFrame.dtypes for data must be int, float or bool.\\n\"\n\u001b[0;32m    277\u001b[0m                    \"Did not expect the data types in fields \")\n\u001b[1;32m--> 278\u001b[1;33m             \u001b[1;32mraise\u001b[0m \u001b[0mValueError\u001b[0m\u001b[1;33m(\u001b[0m\u001b[0mmsg\u001b[0m \u001b[1;33m+\u001b[0m \u001b[1;34m', '\u001b[0m\u001b[1;33m.\u001b[0m\u001b[0mjoin\u001b[0m\u001b[1;33m(\u001b[0m\u001b[0mbad_fields\u001b[0m\u001b[1;33m)\u001b[0m\u001b[1;33m)\u001b[0m\u001b[1;33m\u001b[0m\u001b[0m\n\u001b[0m\u001b[0;32m    279\u001b[0m         \u001b[0mdata\u001b[0m \u001b[1;33m=\u001b[0m \u001b[0mdata\u001b[0m\u001b[1;33m.\u001b[0m\u001b[0mvalues\u001b[0m\u001b[1;33m.\u001b[0m\u001b[0mastype\u001b[0m\u001b[1;33m(\u001b[0m\u001b[1;34m'float'\u001b[0m\u001b[1;33m)\u001b[0m\u001b[1;33m\u001b[0m\u001b[0m\n\u001b[0;32m    280\u001b[0m     \u001b[1;32melse\u001b[0m\u001b[1;33m:\u001b[0m\u001b[1;33m\u001b[0m\u001b[0m\n",
      "\u001b[1;31mValueError\u001b[0m: DataFrame.dtypes for data must be int, float or bool.\nDid not expect the data types in fields first_active_month, card_id"
     ]
    }
   ],
   "source": [
    "#Prediction\n",
    "y_pred=clf.predict(tes)\n",
    "#convert into binary values\n",
    "for i in range(0,99):\n",
    "    if y_pred[i]>=.5:       # setting threshold to .5\n",
    "        y_pred[i]=1\n",
    "    else:  \n",
    "       y_pred[i]=0"
   ]
  },
  {
   "cell_type": "code",
   "execution_count": null,
   "metadata": {},
   "outputs": [],
   "source": []
  },
  {
   "cell_type": "code",
   "execution_count": null,
   "metadata": {},
   "outputs": [],
   "source": []
  },
  {
   "cell_type": "code",
   "execution_count": null,
   "metadata": {},
   "outputs": [],
   "source": []
  },
  {
   "cell_type": "code",
   "execution_count": null,
   "metadata": {},
   "outputs": [],
   "source": []
  },
  {
   "cell_type": "code",
   "execution_count": null,
   "metadata": {},
   "outputs": [],
   "source": []
  },
  {
   "cell_type": "code",
   "execution_count": null,
   "metadata": {},
   "outputs": [],
   "source": []
  },
  {
   "cell_type": "code",
   "execution_count": null,
   "metadata": {},
   "outputs": [],
   "source": []
  }
 ],
 "metadata": {
  "kernelspec": {
   "display_name": "Python 3",
   "language": "python",
   "name": "python3"
  },
  "language_info": {
   "codemirror_mode": {
    "name": "ipython",
    "version": 3
   },
   "file_extension": ".py",
   "mimetype": "text/x-python",
   "name": "python",
   "nbconvert_exporter": "python",
   "pygments_lexer": "ipython3",
   "version": "3.7.1"
  }
 },
 "nbformat": 4,
 "nbformat_minor": 2
}
