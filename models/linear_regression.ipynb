{
 "cells": [
  {
   "cell_type": "code",
   "execution_count": 1,
   "metadata": {},
   "outputs": [],
   "source": [
    "import pandas as pd\n",
    "import numpy as np\n",
    "import matplotlib.pyplot as plt\n",
    "import random\n",
    "from sklearn.model_selection import cross_validate, train_test_split\n",
    "from sklearn.linear_model import LinearRegression\n",
    "from sklearn.metrics import mean_squared_error, r2_score\n",
    "from functools import reduce"
   ]
  },
  {
   "cell_type": "code",
   "execution_count": 2,
   "metadata": {},
   "outputs": [],
   "source": [
    "trx = pd.read_csv('../data/historical_transactions.csv')\n",
    "trx['new'] = False\n",
    "merchants = pd.read_csv('../data/merchants.csv')\n",
    "new_merchant_trx = pd.read_csv('../data/new_merchant_transactions.csv')\n",
    "new_merchant_trx['new'] = True\n",
    "train = pd.read_csv('../data/train.csv')\n",
    "test = pd.read_csv('../data/test.csv')"
   ]
  },
  {
   "cell_type": "code",
   "execution_count": 3,
   "metadata": {},
   "outputs": [],
   "source": [
    "trx.purchase_date = pd.to_datetime(trx.purchase_date)\n",
    "trx.authorized_flag = trx.authorized_flag.apply(lambda x: True if x == 'Y' else False)\n",
    "trx.city_id = trx.city_id.apply(str)"
   ]
  },
  {
   "cell_type": "code",
   "execution_count": 4,
   "metadata": {},
   "outputs": [],
   "source": [
    "groups = trx.groupby('card_id')\n",
    "last_day = trx.purchase_date.max()\n",
    "users = pd.DataFrame()\n",
    "users['tof'] = (last_day - groups.purchase_date.min()).apply(lambda x: x.days)\n",
    "users['recency'] = (last_day - groups.purchase_date.max()).apply(lambda x: x.days)\n",
    "users['frequency'] = groups.size()\n",
    "users['log_freq'] = users.frequency.apply(np.log)\n",
    "users['amt'] = groups.purchase_amount.sum()\n",
    "users['log_amt'] = users['amt'].apply(np.log)\n",
    "users['avg_amt'] = users['amt'] / users['frequency']\n",
    "users['log_avg_amt'] = users['avg_amt'].apply(np.log)\n",
    "users['charge_per_day'] = users['frequency'] / (users['tof'] + 1)\n",
    "users['log_charge_per_day'] = users['charge_per_day'].apply(np.log)\n",
    "users['max_amt'] = groups.purchase_amount.max()\n",
    "users['log_max_amt'] =  users['max_amt'].apply(np.log)\n",
    "users['n_declines'] = groups.size() - groups.authorized_flag.sum()\n",
    "users['log_n_declines'] = users['n_declines'].apply(lambda x: np.log(x+1))"
   ]
  },
  {
   "cell_type": "code",
   "execution_count": 5,
   "metadata": {},
   "outputs": [
    {
     "ename": "NameError",
     "evalue": "name 'X_train' is not defined",
     "output_type": "error",
     "traceback": [
      "\u001b[0;31m---------------------------------------------------------------------------\u001b[0m",
      "\u001b[0;31mNameError\u001b[0m                                 Traceback (most recent call last)",
      "\u001b[0;32m<ipython-input-5-7e036dcbc339>\u001b[0m in \u001b[0;36m<module>\u001b[0;34m\u001b[0m\n\u001b[1;32m      3\u001b[0m \u001b[0;34m\u001b[0m\u001b[0m\n\u001b[1;32m      4\u001b[0m \u001b[0;31m# Train the model using the training sets\u001b[0m\u001b[0;34m\u001b[0m\u001b[0;34m\u001b[0m\u001b[0;34m\u001b[0m\u001b[0m\n\u001b[0;32m----> 5\u001b[0;31m \u001b[0mlin_reg\u001b[0m\u001b[0;34m.\u001b[0m\u001b[0mfit\u001b[0m\u001b[0;34m(\u001b[0m\u001b[0mX_train\u001b[0m\u001b[0;34m,\u001b[0m \u001b[0mY_train\u001b[0m\u001b[0;34m)\u001b[0m\u001b[0;34m\u001b[0m\u001b[0;34m\u001b[0m\u001b[0m\n\u001b[0m\u001b[1;32m      6\u001b[0m \u001b[0;34m\u001b[0m\u001b[0m\n\u001b[1;32m      7\u001b[0m \u001b[0;31m# Make predictions using the testing set\u001b[0m\u001b[0;34m\u001b[0m\u001b[0;34m\u001b[0m\u001b[0;34m\u001b[0m\u001b[0m\n",
      "\u001b[0;31mNameError\u001b[0m: name 'X_train' is not defined"
     ]
    }
   ],
   "source": [
    "# Create linear regression object\n",
    "lin_reg = LinearRegression()\n",
    "\n",
    "# Train the model using the training sets\n",
    "lin_reg.fit(X_train, Y_train)\n",
    "\n",
    "# Make predictions using the testing set\n",
    "Y_pred = lin_reg.predict(X_test)\n",
    "\n",
    "# The coefficients\n",
    "print('Coefficients: \\n', regr.coef_)\n",
    "# The mean squared error\n",
    "print(\"Root Mean squared error: %.2f\"\n",
    "      % np.sqrt(mean_squared_error(Y_test, Y_pred)))\n",
    "print('R-Sq: %.2f' % r2_score(Y_test, Y_pred))"
   ]
  },
  {
   "cell_type": "code",
   "execution_count": null,
   "metadata": {},
   "outputs": [],
   "source": [
    "test_preds = regr.predict(test_X)\n",
    "test_preds.shape"
   ]
  },
  {
   "cell_type": "code",
   "execution_count": null,
   "metadata": {},
   "outputs": [],
   "source": [
    "# Format predictions for submission\n",
    "pd.DataFrame({'card_id':test['card_id'], 'target':test_preds})\\\n",
    "#     .to_csv('./submissions.csv', index=False)"
   ]
  },
  {
   "cell_type": "code",
   "execution_count": null,
   "metadata": {},
   "outputs": [],
   "source": []
  }
 ],
 "metadata": {
  "kernelspec": {
   "display_name": "Python 3",
   "language": "python",
   "name": "python3"
  },
  "language_info": {
   "codemirror_mode": {
    "name": "ipython",
    "version": 3
   },
   "file_extension": ".py",
   "mimetype": "text/x-python",
   "name": "python",
   "nbconvert_exporter": "python",
   "pygments_lexer": "ipython3",
   "version": "3.7.1"
  }
 },
 "nbformat": 4,
 "nbformat_minor": 2
}
